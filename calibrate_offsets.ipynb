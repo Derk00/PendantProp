{
 "cells": [
  {
   "cell_type": "code",
   "execution_count": 14,
   "metadata": {},
   "outputs": [
    {
     "name": "stderr",
     "output_type": "stream",
     "text": [
      "2025-02-26 17:23:52,102 - INFO - Protocol already uploaded, using existing protocol.\n",
      "2025-02-26 17:23:59,902 - INFO - Run created succesfully (ID: 3fdd3352-a2a5-44b6-866c-391389711a07).\n",
      "2025-02-26 17:24:01,669 - INFO - All custom labware definitions added.\n",
      "2025-02-26 17:24:02,520 - INFO - Labware loaded successfully.\n",
      "2025-02-26 17:24:02,568 - INFO - Containers loaded successfully.\n",
      "2025-02-26 17:24:06,667 - INFO - Pipettes loaded successfully.\n"
     ]
    }
   ],
   "source": [
    "from hardware.opentrons.http_communications import OpentronsAPI\n",
    "from hardware.cameras import PendantDropCamera\n",
    "from hardware.sensor.sensor_api import SensorAPI\n",
    "from hardware.opentrons.configuration import Configuration\n",
    "\n",
    "opentrons_api = OpentronsAPI()\n",
    "opentrons_api.initialise()\n",
    "config = Configuration(http_api=opentrons_api)\n",
    "labware = config.load_labware()\n",
    "containers = config.load_containers()\n",
    "pipettes = config.load_pipettes()\n",
    "left_pipette = pipettes[\"left\"]\n",
    "right_pipette = pipettes[\"right\"]\n",
    "# pendant_drop_camera = PendantDropCamera()"
   ]
  },
  {
   "cell_type": "code",
   "execution_count": 15,
   "metadata": {},
   "outputs": [
    {
     "name": "stderr",
     "output_type": "stream",
     "text": [
      "2025-02-26 17:24:32,654 - INFO - Robot homed.\n"
     ]
    }
   ],
   "source": [
    "opentrons_api.home()"
   ]
  },
  {
   "cell_type": "markdown",
   "metadata": {},
   "source": [
    "### droplet for camera"
   ]
  },
  {
   "cell_type": "code",
   "execution_count": 16,
   "metadata": {},
   "outputs": [
    {
     "name": "stderr",
     "output_type": "stream",
     "text": [
      "2025-02-26 17:24:49,687 - INFO - Picked up tip.\n",
      "2025-02-26 17:24:52,686 - WARNING - Aspiration volume is larger than container volume!\n",
      "2025-02-26 17:24:52,686 - INFO - Aspirated 15 uL from 7A2 with left pipette.\n",
      "2025-02-26 17:24:56,436 - INFO - Air gap of 5 uL performed in left pipette.\n",
      "2025-02-26 17:25:01,668 - INFO - Pipette tip cleaned on sponge.\n",
      "2025-02-26 17:25:06,821 - INFO - Air gap of 5 uL removed in left pipette.\n"
     ]
    }
   ],
   "source": [
    "left_pipette.pick_up_tip()\n",
    "left_pipette.aspirate(volume=15, source=containers[\"7A2\"])\n",
    "left_pipette.air_gap(air_volume=5)\n",
    "left_pipette.clean_tip()\n",
    "left_pipette.remove_air_gap(at_drop_stage=True)"
   ]
  },
  {
   "cell_type": "code",
   "execution_count": 17,
   "metadata": {},
   "outputs": [
    {
     "name": "stderr",
     "output_type": "stream",
     "text": [
      "2025-02-26 17:25:36,819 - INFO - Dispensed 12 uL into well 10A1 with left pipette.\n"
     ]
    }
   ],
   "source": [
    "left_pipette.dispense(volume=12, destination=containers[\"drop_stage\"], depth_offset=-23.4, flow_rate=1)"
   ]
  },
  {
   "cell_type": "code",
   "execution_count": 18,
   "metadata": {},
   "outputs": [
    {
     "name": "stderr",
     "output_type": "stream",
     "text": [
      "2025-02-26 17:26:10,421 - INFO - Left pipette dropped tip into trash.\n"
     ]
    }
   ],
   "source": [
    "left_pipette.drop_tip()"
   ]
  },
  {
   "cell_type": "markdown",
   "metadata": {},
   "source": [
    "### Pipette cal"
   ]
  },
  {
   "cell_type": "code",
   "execution_count": 11,
   "metadata": {},
   "outputs": [
    {
     "name": "stderr",
     "output_type": "stream",
     "text": [
      "2025-02-26 16:46:47,651 - ERROR - Could not pick up tip as left pipette already has one!\n"
     ]
    }
   ],
   "source": [
    "offset = {\"x\": -1, \"y\": 1.4, \"z\": -10}\n",
    "# left_pipette.move_to_tip_calibrate(well=\"A1\", offset=offset)\n",
    "left_pipette.pick_up_tip()\n",
    "left_pipette.move_to_well_calibrate(container=containers[\"drop_stage\"], well=\"A1\", offset=offset)"
   ]
  },
  {
   "cell_type": "code",
   "execution_count": 13,
   "metadata": {},
   "outputs": [
    {
     "name": "stderr",
     "output_type": "stream",
     "text": [
      "2025-02-26 16:48:01,120 - INFO - Left pipette dropped tip into trash.\n"
     ]
    }
   ],
   "source": [
    "left_pipette.drop_tip()"
   ]
  }
 ],
 "metadata": {
  "kernelspec": {
   "display_name": "base",
   "language": "python",
   "name": "python3"
  },
  "language_info": {
   "codemirror_mode": {
    "name": "ipython",
    "version": 3
   },
   "file_extension": ".py",
   "mimetype": "text/x-python",
   "name": "python",
   "nbconvert_exporter": "python",
   "pygments_lexer": "ipython3",
   "version": "3.11.7"
  }
 },
 "nbformat": 4,
 "nbformat_minor": 2
}
