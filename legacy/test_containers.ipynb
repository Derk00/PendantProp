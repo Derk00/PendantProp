{
 "cells": [
  {
   "cell_type": "code",
   "execution_count": 1,
   "metadata": {},
   "outputs": [],
   "source": [
    "from hardware.opentrons.http_communications import Opentrons_http_api\n",
    "from hardware.opentrons.configuration import Configuration\n",
    "from hardware.cameras import PendantDropCamera"
   ]
  },
  {
   "cell_type": "code",
   "execution_count": 2,
   "metadata": {},
   "outputs": [
    {
     "name": "stderr",
     "output_type": "stream",
     "text": [
      "2025-02-11 13:44:54,825 - INFO - Protocol already uploaded, using existing protocol.\n",
      "2025-02-11 13:45:02,305 - INFO - Run created succesfully (ID: a0401869-a4e5-4e00-8912-4c180fa6651c).\n",
      "2025-02-11 13:45:04,025 - INFO - All custom labware definitions added.\n",
      "2025-02-11 13:45:04,853 - INFO - Labware loaded successfully\n",
      "2025-02-11 13:45:04,855 - INFO - Containers loaded successfully\n",
      "2025-02-11 13:45:08,968 - INFO - Pipettes loaded successfully\n"
     ]
    },
    {
     "name": "stdout",
     "output_type": "stream",
     "text": [
      "Camera: initialized\n"
     ]
    }
   ],
   "source": [
    "# initialize\n",
    "api = Opentrons_http_api()\n",
    "api.initialise()\n",
    "config = Configuration(http_api=api)\n",
    "labware = config.load_labware()\n",
    "containers = config.load_containers()\n",
    "pipettes = config.load_pipettes()\n",
    "right_pipette = pipettes[\"right\"]\n",
    "left_pipette = pipettes[\"left\"]\n",
    "pd_cam = PendantDropCamera()"
   ]
  },
  {
   "cell_type": "code",
   "execution_count": 3,
   "metadata": {},
   "outputs": [
    {
     "name": "stderr",
     "output_type": "stream",
     "text": [
      "2025-02-11 13:45:29,465 - INFO - Robot homed.\n"
     ]
    }
   ],
   "source": [
    "api.home()\n",
    "# left_pipette.drop_tip(return_tip=True)"
   ]
  },
  {
   "cell_type": "code",
   "execution_count": 4,
   "metadata": {},
   "outputs": [
    {
     "name": "stderr",
     "output_type": "stream",
     "text": [
      "2025-02-11 13:45:43,236 - INFO - left pipette (p20_single_gen2) picked up tip from well A1 on tips P20, 1.\n",
      "2025-02-11 13:45:48,468 - INFO - touched tip, repeated 1 times\n",
      "2025-02-11 13:45:48,470 - INFO - Container: Aspirated 20 uL from this container with content water\n",
      "2025-02-11 13:45:48,475 - INFO - Aspirated 20 uL from water (well A1 on plate) with left pipette (p20_single_gen2)\n",
      "2025-02-11 13:45:52,995 - INFO - camera: updated well id to 6A1\n",
      "2025-02-11 13:46:02,539 - INFO - Drop stage: measured pendant drop from 6A1. See container log for more details.\n",
      "2025-02-11 13:46:02,539 - INFO - Dispensed 13 uL into well 10A1 with left pipette (p20_single_gen2)\n",
      "2025-02-11 13:46:12,587 - INFO - Delay of 10 seconds & 0 minutes.\n",
      "2025-02-11 13:46:13,907 - INFO - Aspirated 13 uL from water (well A1 on drop_stage) with left pipette (p20_single_gen2)\n",
      "2025-02-11 13:46:20,070 - INFO - touched tip, repeated 1 times\n",
      "2025-02-11 13:46:20,075 - INFO - Container: Dispensed 20 uL into this container from source A1 of plate (6A1) containing water\n",
      "2025-02-11 13:46:20,075 - INFO - Dispensed 20 uL into well 6A1 with left pipette (p20_single_gen2)\n",
      "2025-02-11 13:46:30,555 - INFO - left pipette (p20_single_gen2) dropped tip into trash.\n"
     ]
    },
    {
     "data": {
      "text/plain": [
       "[[0.0, 71.3125791661171],\n",
       " [0.246618, 76.82994423078362],\n",
       " [0.476941, 73.5729462620867],\n",
       " [0.695095, 74.73453851064086],\n",
       " [0.922747, 72.43244702648879],\n",
       " [1.1798, 75.91769744731218],\n",
       " [1.401577, 72.9778846298529],\n",
       " [1.619694, 74.73453851064086],\n",
       " [1.850163, 72.43244702648879],\n",
       " [2.078947, 73.85038934286462],\n",
       " [2.346521, 75.0175336866],\n",
       " [2.577764, 73.85038934286462],\n",
       " [2.800656, 74.73453851064086],\n",
       " [3.026041, 74.12926614110881],\n",
       " [3.241569, 72.70446634128133],\n",
       " [3.496471, 74.12926614110881],\n",
       " [3.745062, 73.85038934286462],\n",
       " [3.971695, 74.73453851064086],\n",
       " [4.203502, 75.91769744731218],\n",
       " [4.419075, 74.73453851064086],\n",
       " [4.680146, 76.20637652717585],\n",
       " [5.001385, 74.45300289690553],\n",
       " [5.289184, 74.12926614110881],\n",
       " [5.563962, 74.12926614110881],\n",
       " [5.885978, 75.0175336866],\n",
       " [6.184816, 75.3019982982247],\n",
       " [6.478372, 75.0175336866],\n",
       " [6.764031, 75.3019982982247],\n",
       " [7.064163, 75.0175336866],\n",
       " [7.336331, 72.9778846298529],\n",
       " [7.604063, 73.85038934286462],\n",
       " [7.921242, 73.85038934286462],\n",
       " [8.235987, 75.3019982982247],\n",
       " [8.51329, 73.85038934286462],\n",
       " [8.807636, 75.3019982982247],\n",
       " [9.13533, 73.85038934286462],\n",
       " [9.446519, 74.73453851064086],\n",
       " [9.724808, 73.85038934286462],\n",
       " [10.011453, 73.85038934286462]]"
      ]
     },
     "execution_count": 4,
     "metadata": {},
     "output_type": "execute_result"
    }
   ],
   "source": [
    "left_pipette.measure_pendant_drop(\n",
    "    source=containers[\"6A1\"], drop_volume=13, delay=10, flow_rate=2, pendant_drop_camera=pd_cam\n",
    ")\n",
    "# left_pipette.pick_up_tip()\n",
    "# offset = dict(x=0, y=0, z=-5)\n",
    "# left_pipette.move_to_well(containers[\"drop_stage\"], offset=offset)"
   ]
  },
  {
   "cell_type": "code",
   "execution_count": null,
   "metadata": {},
   "outputs": [],
   "source": [
    "# left_pipette.dispense(\n",
    "#     volume=12,\n",
    "#     source=containers[\"6A1\"],\n",
    "#     destination=containers[\"drop_stage\"],\n",
    "#     depth_offset=-23.4\n",
    "# )"
   ]
  }
 ],
 "metadata": {
  "kernelspec": {
   "display_name": "base",
   "language": "python",
   "name": "python3"
  },
  "language_info": {
   "codemirror_mode": {
    "name": "ipython",
    "version": 3
   },
   "file_extension": ".py",
   "mimetype": "text/x-python",
   "name": "python",
   "nbconvert_exporter": "python",
   "pygments_lexer": "ipython3",
   "version": "3.11.7"
  }
 },
 "nbformat": 4,
 "nbformat_minor": 2
}
