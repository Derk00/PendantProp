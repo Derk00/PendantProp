{
 "cells": [
  {
   "cell_type": "code",
   "execution_count": 1,
   "metadata": {},
   "outputs": [
    {
     "name": "stderr",
     "output_type": "stream",
     "text": [
      "2025-01-24 16:47:20,374 - INFO - Protocol already uploaded, using existing protocol.\n",
      "2025-01-24 16:47:27,325 - INFO - Run created succesfully (ID: 6676ff44-da5c-4ca7-b8d7-6485b74de29a).\n",
      "2025-01-24 16:47:28,734 - INFO - All custom labware definitions added.\n",
      "2025-01-24 16:47:29,380 - INFO - Labware loaded successfully\n",
      "2025-01-24 16:47:33,500 - INFO - Pipettes loaded successfully\n",
      "2025-01-24 16:47:33,535 - INFO - Containers loaded successfully\n"
     ]
    }
   ],
   "source": [
    "from hardware.opentrons.http_communications import Opentrons_http_api\n",
    "from hardware.opentrons.configuration import Configuration\n",
    "\n",
    "# initialize\n",
    "api = Opentrons_http_api()\n",
    "api.initialise()\n",
    "config = Configuration(http_api=api)\n",
    "labware = config.load_labware()\n",
    "pipettes = config.load_pipettes()\n",
    "containers = config.load_containers()\n",
    "right_pipette = pipettes[\"right\"]\n",
    "left_pipette = pipettes[\"left\"]\n"
   ]
  },
  {
   "cell_type": "code",
   "execution_count": 7,
   "metadata": {},
   "outputs": [
    {
     "name": "stderr",
     "output_type": "stream",
     "text": [
      "2025-01-24 16:53:38,863 - INFO - left pipette (p20_single_gen2) picked up tip from well C1 on tips P20, 1.\n",
      "2025-01-24 16:53:41,566 - INFO - Container: Aspirated 20 uL from this container with content water\n",
      "2025-01-24 16:53:41,566 - INFO - Aspirated 20 uL from water (well A1 on tube rack 15 mL) with left pipette (p20_single_gen2)\n"
     ]
    }
   ],
   "source": [
    "# api.home()\n",
    "# left_pipette.drop_tip()\n",
    "left_pipette.pick_up_tip()\n",
    "left_pipette.aspirate(volume=20, source=containers[\"water\"])"
   ]
  },
  {
   "cell_type": "code",
   "execution_count": 8,
   "metadata": {},
   "outputs": [
    {
     "name": "stderr",
     "output_type": "stream",
     "text": [
      "2025-01-24 16:53:49,100 - INFO - Drop stage: measured pendant drop from 3A1. See container log for more details.\n",
      "2025-01-24 16:53:49,101 - INFO - Dispensed 10 uL into well 10A1 with left pipette (p20_single_gen2)\n"
     ]
    }
   ],
   "source": [
    "left_pipette.dispense(\n",
    "    volume=10,\n",
    "    source=containers[\"water\"],\n",
    "    destination=containers[\"drop_stage\"],\n",
    "    depth_offset=-25.4,\n",
    ")\n",
    "# left_pipette.measure_pendant_drop(\n",
    "\n",
    "#     source=containers[\"water\"],\n",
    "\n",
    "#     destination=containers[\"drop_stage\"],\n",
    "\n",
    "#     drop_volume=8,\n",
    "\n",
    "#     delay=60,\n",
    "\n",
    "#     flow_rate=100,\n",
    "\n",
    "# )\n",
    "\n",
    "# left_pipette.drop_tip(return_tip=True)"
   ]
  },
  {
   "cell_type": "code",
   "execution_count": 4,
   "metadata": {},
   "outputs": [],
   "source": [
    "# left_pipette.drop_tip(return_tip=True)"
   ]
  },
  {
   "cell_type": "code",
   "execution_count": 5,
   "metadata": {},
   "outputs": [],
   "source": [
    "# left_pipette.pick_up_tip()"
   ]
  }
 ],
 "metadata": {
  "kernelspec": {
   "display_name": "base",
   "language": "python",
   "name": "python3"
  },
  "language_info": {
   "codemirror_mode": {
    "name": "ipython",
    "version": 3
   },
   "file_extension": ".py",
   "mimetype": "text/x-python",
   "name": "python",
   "nbconvert_exporter": "python",
   "pygments_lexer": "ipython3",
   "version": "3.11.7"
  }
 },
 "nbformat": 4,
 "nbformat_minor": 2
}
