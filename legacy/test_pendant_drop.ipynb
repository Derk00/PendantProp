{
 "cells": [
  {
   "cell_type": "code",
   "execution_count": 1,
   "metadata": {},
   "outputs": [
    {
     "name": "stderr",
     "output_type": "stream",
     "text": [
      "2025-01-27 13:21:02,869 - INFO - Protocol already uploaded, using existing protocol.\n",
      "2025-01-27 13:21:09,708 - INFO - Run created succesfully (ID: 0947a956-cf02-40e3-854b-9dcdf2d3aed7).\n",
      "2025-01-27 13:21:11,132 - INFO - All custom labware definitions added.\n",
      "2025-01-27 13:21:11,748 - INFO - Labware loaded successfully\n",
      "2025-01-27 13:21:15,899 - INFO - Pipettes loaded successfully\n",
      "2025-01-27 13:21:15,911 - ERROR - Error loading containers: 'NoneType' object is not callable\n"
     ]
    }
   ],
   "source": [
    "from hardware.opentrons.http_communications import Opentrons_http_api\n",
    "from hardware.opentrons.configuration import Configuration\n",
    "\n",
    "# initialize\n",
    "api = Opentrons_http_api()\n",
    "api.initialise()\n",
    "config = Configuration(http_api=api)\n",
    "labware = config.load_labware()\n",
    "pipettes = config.load_pipettes()\n",
    "containers = config.load_containers()\n",
    "right_pipette = pipettes[\"right\"]\n",
    "left_pipette = pipettes[\"left\"]\n"
   ]
  },
  {
   "cell_type": "code",
   "execution_count": null,
   "metadata": {},
   "outputs": [],
   "source": [
    "print(containers)\n"
   ]
  },
  {
   "cell_type": "code",
   "execution_count": 18,
   "metadata": {},
   "outputs": [],
   "source": []
  }
 ],
 "metadata": {
  "kernelspec": {
   "display_name": "base",
   "language": "python",
   "name": "python3"
  },
  "language_info": {
   "codemirror_mode": {
    "name": "ipython",
    "version": 3
   },
   "file_extension": ".py",
   "mimetype": "text/x-python",
   "name": "python",
   "nbconvert_exporter": "python",
   "pygments_lexer": "ipython3",
   "version": "3.11.7"
  }
 },
 "nbformat": 4,
 "nbformat_minor": 2
}
