{
 "cells": [
  {
   "cell_type": "code",
   "execution_count": null,
   "metadata": {},
   "outputs": [],
   "source": [
    "from hardware.opentrons.http_communications import OpentronsAPI\n",
    "from hardware.cameras import PendantDropCamera\n",
    "from hardware.sensor.sensor_api import SensorAPI\n",
    "from hardware.opentrons.configuration import Configuration\n",
    "\n",
    "opentrons_api = OpentronsAPI()\n",
    "opentrons_api.initialise()\n",
    "config = Configuration(http_api=opentrons_api)\n",
    "labware = config.load_labware()\n",
    "containers = config.load_containers()\n",
    "pipettes = config.load_pipettes()\n",
    "left_pipette = pipettes[\"left\"]\n",
    "right_pipette = pipettes[\"right\"]\n",
    "pendant_drop_camera = PendantDropCamera()"
   ]
  },
  {
   "cell_type": "code",
   "execution_count": null,
   "metadata": {},
   "outputs": [],
   "source": [
    "opentrons_api.home()"
   ]
  },
  {
   "cell_type": "code",
   "execution_count": null,
   "metadata": {},
   "outputs": [],
   "source": [
    "left_pipette.measure_pendant_drop(\n",
    "    source=containers[\"8A1\"],\n",
    "    drop_volume=10,\n",
    "    delay=10,\n",
    "    flow_rate=1,\n",
    "    pendant_drop_camera=pendant_drop_camera\n",
    ")"
   ]
  }
 ],
 "metadata": {
  "kernelspec": {
   "display_name": "base",
   "language": "python",
   "name": "python3"
  },
  "language_info": {
   "codemirror_mode": {
    "name": "ipython",
    "version": 3
   },
   "file_extension": ".py",
   "mimetype": "text/x-python",
   "name": "python",
   "nbconvert_exporter": "python",
   "pygments_lexer": "ipython3",
   "version": "3.11.7"
  }
 },
 "nbformat": 4,
 "nbformat_minor": 2
}
