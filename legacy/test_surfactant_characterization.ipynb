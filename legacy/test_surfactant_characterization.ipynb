{
 "cells": [
  {
   "cell_type": "code",
   "execution_count": 1,
   "metadata": {},
   "outputs": [],
   "source": [
    "from hardware.opentrons.http_communications import Opentrons_http_api\n",
    "from hardware.opentrons.configuration import Configuration\n",
    "from hardware.cameras import PendantDropCamera\n",
    "from utils.search_containers import get_well_id\n",
    "from utils.load_save_functions import load_settings"
   ]
  },
  {
   "cell_type": "code",
   "execution_count": 2,
   "metadata": {},
   "outputs": [
    {
     "name": "stderr",
     "output_type": "stream",
     "text": [
      "2025-02-12 16:10:16,055 - INFO - Protocol already uploaded, using existing protocol.\n",
      "2025-02-12 16:10:23,171 - INFO - Run created succesfully (ID: 454e5c92-8676-4a16-b81b-a2c4f40de190).\n",
      "2025-02-12 16:10:24,904 - INFO - All custom labware definitions added.\n",
      "2025-02-12 16:10:25,724 - INFO - Labware loaded successfully\n",
      "2025-02-12 16:10:25,734 - INFO - Containers loaded successfully\n",
      "2025-02-12 16:10:29,870 - INFO - Pipettes loaded successfully\n"
     ]
    },
    {
     "name": "stdout",
     "output_type": "stream",
     "text": [
      "Camera: initialized\n"
     ]
    }
   ],
   "source": [
    "# initialize\n",
    "api = Opentrons_http_api()\n",
    "api.initialise()\n",
    "config = Configuration(http_api=api)\n",
    "labware = config.load_labware()\n",
    "containers = config.load_containers()\n",
    "pipettes = config.load_pipettes()\n",
    "\n",
    "right_pipette = pipettes[\"right\"]\n",
    "left_pipette = pipettes[\"left\"]\n",
    "pd_cam = PendantDropCamera()"
   ]
  },
  {
   "cell_type": "code",
   "execution_count": 3,
   "metadata": {},
   "outputs": [
    {
     "name": "stderr",
     "output_type": "stream",
     "text": [
      "2025-02-12 16:10:57,356 - INFO - Robot homed.\n"
     ]
    }
   ],
   "source": [
    "api.home()"
   ]
  },
  {
   "cell_type": "code",
   "execution_count": 4,
   "metadata": {},
   "outputs": [
    {
     "name": "stderr",
     "output_type": "stream",
     "text": [
      "2025-02-12 16:11:01,018 - INFO - Serial dilution of SDS in row 6A, with explore points 3\n",
      "2025-02-12 16:11:10,184 - INFO - right pipette (p1000_single_gen2) picked up tip from well A1 on tips P1000, 1.\n",
      "2025-02-12 16:11:10,200 - INFO - Transferring 200.0 uL from water (well A1 on tube rack 15 mL) to well A1 on plate with right pipette (p1000_single_gen2)\n",
      "2025-02-12 16:11:17,466 - INFO - touched tip, repeated 1 times\n",
      "2025-02-12 16:11:17,467 - INFO - Container: Aspirated 200.0 uL from this container with content water\n",
      "2025-02-12 16:11:17,468 - INFO - Aspirated 200.0 uL from water (well A1 on tube rack 15 mL) with right pipette (p1000_single_gen2)\n",
      "2025-02-12 16:11:23,733 - INFO - touched tip, repeated 1 times\n",
      "2025-02-12 16:11:23,734 - INFO - Container: Dispensed 200.0 uL into this container from source A1 of tube rack 15 mL (3A1) containing water\n",
      "2025-02-12 16:11:23,734 - INFO - Dispensed 200.0 uL into well 6A1 with right pipette (p1000_single_gen2)\n",
      "2025-02-12 16:11:23,734 - INFO - Transferring 200.0 uL from water (well A1 on tube rack 15 mL) to well A2 on plate with right pipette (p1000_single_gen2)\n",
      "2025-02-12 16:11:31,467 - INFO - touched tip, repeated 1 times\n",
      "2025-02-12 16:11:31,467 - INFO - Container: Aspirated 200.0 uL from this container with content water\n",
      "2025-02-12 16:11:31,467 - INFO - Aspirated 200.0 uL from water (well A1 on tube rack 15 mL) with right pipette (p1000_single_gen2)\n",
      "2025-02-12 16:11:37,902 - INFO - touched tip, repeated 1 times\n",
      "2025-02-12 16:11:37,902 - INFO - Container: Dispensed 200.0 uL into this container from source A1 of tube rack 15 mL (3A1) containing water\n",
      "2025-02-12 16:11:37,902 - INFO - Dispensed 200.0 uL into well 6A2 with right pipette (p1000_single_gen2)\n",
      "2025-02-12 16:11:37,902 - INFO - Transferring 200.0 uL from water (well A1 on tube rack 15 mL) to well A3 on plate with right pipette (p1000_single_gen2)\n",
      "2025-02-12 16:11:45,669 - INFO - touched tip, repeated 1 times\n",
      "2025-02-12 16:11:45,669 - INFO - Container: Aspirated 200.0 uL from this container with content water\n",
      "2025-02-12 16:11:45,669 - INFO - Aspirated 200.0 uL from water (well A1 on tube rack 15 mL) with right pipette (p1000_single_gen2)\n",
      "2025-02-12 16:11:52,034 - INFO - touched tip, repeated 1 times\n",
      "2025-02-12 16:11:52,034 - INFO - Container: Dispensed 200.0 uL into this container from source A1 of tube rack 15 mL (3A1) containing water\n",
      "2025-02-12 16:11:52,042 - INFO - Dispensed 200.0 uL into well 6A3 with right pipette (p1000_single_gen2)\n",
      "2025-02-12 16:12:04,616 - INFO - right pipette (p1000_single_gen2) dropped tip into trash.\n",
      "2025-02-12 16:12:13,121 - INFO - right pipette (p1000_single_gen2) picked up tip from well B1 on tips P1000, 1.\n",
      "2025-02-12 16:12:20,434 - INFO - touched tip, repeated 1 times\n",
      "2025-02-12 16:12:20,434 - INFO - Container: Aspirated 200.0 uL from this container with content SDS\n",
      "2025-02-12 16:12:20,434 - INFO - Aspirated 200.0 uL from SDS (well A2 on tube rack 15 mL) with right pipette (p1000_single_gen2)\n",
      "2025-02-12 16:12:38,784 - INFO - done with mixing in 6A1 with order after, with volume 100.0, repeated 5 times\n",
      "2025-02-12 16:12:40,934 - INFO - touched tip, repeated 1 times\n",
      "2025-02-12 16:12:40,934 - INFO - Container: Dispensed 200.0 uL into this container from source A2 of tube rack 15 mL (3A2) containing SDS\n",
      "2025-02-12 16:12:40,934 - INFO - Dispensed 200.0 uL into well 6A1 with right pipette (p1000_single_gen2)\n",
      "2025-02-12 16:12:40,934 - WARNING - right pipette (p1000_single_gen2) is not clean! Aspirating anyway...\n",
      "2025-02-12 16:12:45,719 - INFO - touched tip, repeated 1 times\n",
      "2025-02-12 16:12:45,719 - INFO - Container: Aspirated 200.0 uL from this container with content SDS\n",
      "2025-02-12 16:12:45,719 - INFO - Aspirated 200.0 uL from SDS (well A1 on plate) with right pipette (p1000_single_gen2)\n",
      "2025-02-12 16:13:02,753 - INFO - done with mixing in 6A2 with order after, with volume 100.0, repeated 5 times\n",
      "2025-02-12 16:13:04,882 - INFO - touched tip, repeated 1 times\n",
      "2025-02-12 16:13:04,883 - INFO - Container: Dispensed 200.0 uL into this container from source A1 of plate (6A1) containing SDS\n",
      "2025-02-12 16:13:04,884 - INFO - Dispensed 200.0 uL into well 6A2 with right pipette (p1000_single_gen2)\n",
      "2025-02-12 16:13:04,884 - WARNING - right pipette (p1000_single_gen2) is not clean! Aspirating anyway...\n",
      "2025-02-12 16:13:09,652 - INFO - touched tip, repeated 1 times\n",
      "2025-02-12 16:13:09,653 - INFO - Container: Aspirated 200.0 uL from this container with content SDS\n",
      "2025-02-12 16:13:09,654 - INFO - Aspirated 200.0 uL from SDS (well A2 on plate) with right pipette (p1000_single_gen2)\n",
      "2025-02-12 16:13:26,691 - INFO - done with mixing in 6A3 with order after, with volume 100.0, repeated 5 times\n",
      "2025-02-12 16:13:28,781 - INFO - touched tip, repeated 1 times\n",
      "2025-02-12 16:13:28,783 - INFO - Container: Dispensed 200.0 uL into this container from source A2 of plate (6A2) containing SDS\n",
      "2025-02-12 16:13:28,784 - INFO - Dispensed 200.0 uL into well 6A3 with right pipette (p1000_single_gen2)\n",
      "2025-02-12 16:13:28,784 - WARNING - right pipette (p1000_single_gen2) is not clean! Aspirating anyway...\n",
      "2025-02-12 16:13:33,619 - INFO - touched tip, repeated 1 times\n",
      "2025-02-12 16:13:33,619 - INFO - Container: Aspirated 200.0 uL from this container with content SDS\n",
      "2025-02-12 16:13:33,619 - INFO - Aspirated 200.0 uL from SDS (well A3 on plate) with right pipette (p1000_single_gen2)\n",
      "2025-02-12 16:13:42,203 - INFO - touched tip, repeated 1 times\n",
      "2025-02-12 16:13:42,203 - INFO - Container: Dispensed 200.0 uL into this container from source A3 of plate (6A3) containing SDS\n",
      "2025-02-12 16:13:42,203 - INFO - Dispensed 200.0 uL into well 3C5 with right pipette (p1000_single_gen2)\n",
      "2025-02-12 16:13:54,301 - INFO - right pipette (p1000_single_gen2) dropped tip into trash.\n"
     ]
    }
   ],
   "source": [
    "right_pipette.serial_dilution(row_id=\"6A\", surfactant_name=\"SDS\")"
   ]
  },
  {
   "cell_type": "code",
   "execution_count": null,
   "metadata": {},
   "outputs": [],
   "source": [
    "well_id_water = get_well_id(containers, solution=\"water\")\n",
    "well_id_surf = get_well_id(containers, solution=\"SDS\")\n",
    "well_id_trash = get_well_id(containers, solution=\"trash\")\n",
    "row_id = '6A'"
   ]
  },
  {
   "cell_type": "code",
   "execution_count": null,
   "metadata": {},
   "outputs": [],
   "source": [
    "# for i in range(explore_points):\n",
    "    # right_pipette.transfer(volume=well_volume, source=containers[well_id_water], destination=containers[f'6A{i+1}'], touch_tip=True)\n",
    "# right_pipette.drop_tip()\n",
    "right_pipette.pick_up_tip()\n",
    "# right_pipette.aspirate(volume=well_volume, source=containers[well_id_surf], touch_tip=True)\n",
    "# right_pipette.dispense(volume=well_volume, source = containers[well_id_surf], destination=containers[\"6A1\"], touch_tip=True, mix=(\"after\", well_volume/2, 5))\n",
    "# for i in range(1, explore_points):\n",
    "    # right_pipette.aspirate(volume=well_volume, source=containers[f\"{row_id}{i}\"], touch_tip=True)\n",
    "    # right_pipette.dispense(volume=well_volume, source=containers[f\"{row_id}{i}\"], destination=containers[f\"{row_id}{i+1}\"], touch_tip=True, mix=(\"after\", well_volume/2, 2))\n",
    "right_pipette.aspirate(volume=well_volume, source=containers[f\"{row_id}{explore_points}\"], touch_tip=True)\n",
    "right_pipette.dispense(volume=well_volume, source=containers[f\"{row_id}{explore_points}\"], destination=containers[well_id_trash], touch_tip=True)"
   ]
  },
  {
   "cell_type": "code",
   "execution_count": null,
   "metadata": {},
   "outputs": [],
   "source": [
    "right_pipette.drop_tip(return_tip=True)"
   ]
  }
 ],
 "metadata": {
  "kernelspec": {
   "display_name": "base",
   "language": "python",
   "name": "python3"
  },
  "language_info": {
   "codemirror_mode": {
    "name": "ipython",
    "version": 3
   },
   "file_extension": ".py",
   "mimetype": "text/x-python",
   "name": "python",
   "nbconvert_exporter": "python",
   "pygments_lexer": "ipython3",
   "version": "3.11.7"
  }
 },
 "nbformat": 4,
 "nbformat_minor": 2
}
