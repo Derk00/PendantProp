{
 "cells": [
  {
   "cell_type": "code",
   "execution_count": 2,
   "metadata": {},
   "outputs": [
    {
     "name": "stderr",
     "output_type": "stream",
     "text": [
      "2025-02-18 16:45:26,416 - INFO - Protocol already uploaded, using existing protocol.\n",
      "2025-02-18 16:45:33,632 - INFO - Run created succesfully (ID: 7fccf5df-afb2-4fd8-bf25-e6c7af8c0efb).\n",
      "2025-02-18 16:45:35,564 - INFO - All custom labware definitions added.\n",
      "2025-02-18 16:45:36,453 - INFO - Labware loaded successfully\n",
      "2025-02-18 16:45:36,532 - INFO - Containers loaded successfully\n",
      "2025-02-18 16:45:40,622 - INFO - Pipettes loaded successfully\n",
      "2025-02-18 16:45:44,764 - INFO - Pipettes loaded successfully\n",
      "2025-02-18 16:46:04,852 - INFO - Robot homed.\n"
     ]
    },
    {
     "name": "stdout",
     "output_type": "stream",
     "text": [
      "initialization protocol\n"
     ]
    }
   ],
   "source": [
    "from protocols.protocol import Protocol\n",
    "from hardware.opentrons.http_communications import Opentrons_http_api\n",
    "from hardware.cameras import PendantDropCamera\n",
    "from hardware.sensor.sensor_api import SensorApi\n",
    "\n",
    "opentron_api = Opentrons_http_api()\n",
    "sensor_api = SensorApi()\n",
    "pd_cam = PendantDropCamera()\n",
    "protocol = Protocol(api=opentron_api, sensor_api=sensor_api, pendant_drop_camera=pd_cam)"
   ]
  },
  {
   "cell_type": "code",
   "execution_count": 3,
   "metadata": {},
   "outputs": [
    {
     "name": "stderr",
     "output_type": "stream",
     "text": [
      "2025-02-18 16:46:16,363 - INFO - Start pendant drop measurement of 8A1, containing n.a. mM empty\n",
      "2025-02-18 16:46:22,931 - INFO - left pipette picked up tip from well A1 on tips P20, 1.\n",
      "2025-02-18 16:46:25,939 - ERROR - left pipette (p20_single_gen2) does not have enough volume to dispense 15 uL! Cancelled dispensing step.\n",
      "2025-02-18 16:46:26,024 - ERROR - left pipette (p20_single_gen2) does not have enough volume to dispense 15 uL! Cancelled dispensing step.\n",
      "2025-02-18 16:46:26,110 - ERROR - left pipette (p20_single_gen2) does not have enough volume to dispense 15 uL! Cancelled dispensing step.\n",
      "2025-02-18 16:46:26,209 - ERROR - left pipette (p20_single_gen2) does not have enough volume to dispense 15 uL! Cancelled dispensing step.\n",
      "2025-02-18 16:46:26,294 - ERROR - left pipette (p20_single_gen2) does not have enough volume to dispense 15 uL! Cancelled dispensing step.\n",
      "2025-02-18 16:46:26,295 - INFO - done with mixing in 8A1 with order before, with volume 15 uL, repeated 5 times\n",
      "2025-02-18 16:46:26,375 - WARNING - Aspiration volume is larger than container volume!\n",
      "2025-02-18 16:46:26,376 - INFO - Aspirated 15 uL from 8A1 with left pipette.\n",
      "2025-02-18 16:46:30,153 - INFO - air gap of 5 uL performed in left pipette.\n",
      "2025-02-18 16:46:35,197 - INFO - pipette tip cleaned on sponge.\n",
      "2025-02-18 16:46:40,364 - INFO - air gap of 5 uL removed in left pipette.\n",
      "2025-02-18 16:46:42,327 - INFO - camera: start measuring 8A1\n",
      "2025-02-18 16:47:12,368 - INFO - Delay of 30.0 seconds & 0 minutes.\n",
      "2025-02-18 16:47:12,769 - INFO - camera: stopped measurement\n",
      "2025-02-18 16:47:13,384 - INFO - Re-aspirated the pendant drop into the tip.\n",
      "2025-02-18 16:47:17,019 - INFO - Container: dispensed 15.0 uL into this container from source 10A1 containing pure mM empty.\n",
      "2025-02-18 16:47:17,019 - INFO - Dispensed 15.0 uL into well 8A1 with left pipette.\n",
      "2025-02-18 16:47:27,606 - INFO - left pipette dropped tip into trash.\n",
      "2025-02-18 16:47:27,607 - INFO - Done with pendant drop measurement.\n"
     ]
    },
    {
     "ename": "AttributeError",
     "evalue": "'DataFrame' object has no attribute 'append'",
     "output_type": "error",
     "traceback": [
      "\u001b[1;31m---------------------------------------------------------------------------\u001b[0m",
      "\u001b[1;31mAttributeError\u001b[0m                            Traceback (most recent call last)",
      "\u001b[1;32m~\\AppData\\Local\\Temp\\ipykernel_11116\\2811142654.py\u001b[0m in \u001b[0;36m?\u001b[1;34m()\u001b[0m\n\u001b[1;32m----> 1\u001b[1;33m \u001b[0mprotocol\u001b[0m\u001b[1;33m.\u001b[0m\u001b[0mmeasure_wells\u001b[0m\u001b[1;33m(\u001b[0m\u001b[1;33m)\u001b[0m\u001b[1;33m\u001b[0m\u001b[1;33m\u001b[0m\u001b[0m\n\u001b[0m",
      "\u001b[1;32mc:\\Users\\pimda\\Documents\\PendantProp\\protocols\\protocol.py\u001b[0m in \u001b[0;36m?\u001b[1;34m(self)\u001b[0m\n\u001b[0;32m     34\u001b[0m                 \u001b[0mdelay\u001b[0m\u001b[1;33m=\u001b[0m\u001b[0mfloat\u001b[0m\u001b[1;33m(\u001b[0m\u001b[0mself\u001b[0m\u001b[1;33m.\u001b[0m\u001b[0msettings\u001b[0m\u001b[1;33m[\u001b[0m\u001b[1;34m\"EQUILIBRATION_TIME\"\u001b[0m\u001b[1;33m]\u001b[0m\u001b[1;33m)\u001b[0m\u001b[1;33m,\u001b[0m\u001b[1;33m\u001b[0m\u001b[1;33m\u001b[0m\u001b[0m\n\u001b[0;32m     35\u001b[0m                 \u001b[0mflow_rate\u001b[0m\u001b[1;33m=\u001b[0m\u001b[0mfloat\u001b[0m\u001b[1;33m(\u001b[0m\u001b[0mself\u001b[0m\u001b[1;33m.\u001b[0m\u001b[0msettings\u001b[0m\u001b[1;33m[\u001b[0m\u001b[1;34m\"FLOW_RATE\"\u001b[0m\u001b[1;33m]\u001b[0m\u001b[1;33m)\u001b[0m\u001b[1;33m,\u001b[0m\u001b[1;33m\u001b[0m\u001b[1;33m\u001b[0m\u001b[0m\n\u001b[0;32m     36\u001b[0m                 \u001b[0mpendant_drop_camera\u001b[0m\u001b[1;33m=\u001b[0m\u001b[0mself\u001b[0m\u001b[1;33m.\u001b[0m\u001b[0mpendant_drop_camera\u001b[0m\u001b[1;33m\u001b[0m\u001b[1;33m\u001b[0m\u001b[0m\n\u001b[0;32m     37\u001b[0m             )\n\u001b[1;32m---> 38\u001b[1;33m             \u001b[0mself\u001b[0m\u001b[1;33m.\u001b[0m\u001b[0m_save_results\u001b[0m\u001b[1;33m(\u001b[0m\u001b[0mdynamic_surface_tension\u001b[0m\u001b[1;33m,\u001b[0m \u001b[0mwell_id\u001b[0m\u001b[1;33m)\u001b[0m\u001b[1;33m\u001b[0m\u001b[1;33m\u001b[0m\u001b[0m\n\u001b[0m\u001b[0;32m     39\u001b[0m \u001b[1;33m\u001b[0m\u001b[0m\n\u001b[0;32m     40\u001b[0m         \u001b[0mself\u001b[0m\u001b[1;33m.\u001b[0m\u001b[0m_save_final_results\u001b[0m\u001b[1;33m(\u001b[0m\u001b[1;33m)\u001b[0m\u001b[1;33m\u001b[0m\u001b[1;33m\u001b[0m\u001b[0m\n",
      "\u001b[1;32mc:\\Users\\pimda\\Documents\\PendantProp\\protocols\\protocol.py\u001b[0m in \u001b[0;36m?\u001b[1;34m(self, dynamic_surface_tension, well_id)\u001b[0m\n\u001b[0;32m     77\u001b[0m             \u001b[0mself\u001b[0m\u001b[1;33m.\u001b[0m\u001b[0m_save_dynamic_surface_tension\u001b[0m\u001b[1;33m(\u001b[0m\u001b[0mdynamic_surface_tension\u001b[0m\u001b[1;33m,\u001b[0m \u001b[0mwell_id\u001b[0m\u001b[1;33m)\u001b[0m\u001b[1;33m\u001b[0m\u001b[1;33m\u001b[0m\u001b[0m\n\u001b[0;32m     78\u001b[0m             st_eq = self._calculate_equilibrium_surface_tension(\n\u001b[0;32m     79\u001b[0m                 \u001b[0mdynamic_surface_tension\u001b[0m\u001b[1;33m\u001b[0m\u001b[1;33m\u001b[0m\u001b[0m\n\u001b[0;32m     80\u001b[0m             )\n\u001b[1;32m---> 81\u001b[1;33m             \u001b[0mself\u001b[0m\u001b[1;33m.\u001b[0m\u001b[0m_add_data_to_results\u001b[0m\u001b[1;33m(\u001b[0m\u001b[0mwell_id\u001b[0m\u001b[1;33m=\u001b[0m\u001b[0mwell_id\u001b[0m\u001b[1;33m,\u001b[0m \u001b[0msurface_tension_eq\u001b[0m\u001b[1;33m=\u001b[0m\u001b[0mst_eq\u001b[0m\u001b[1;33m)\u001b[0m\u001b[1;33m\u001b[0m\u001b[1;33m\u001b[0m\u001b[0m\n\u001b[0m\u001b[0;32m     82\u001b[0m         \u001b[1;32melse\u001b[0m\u001b[1;33m:\u001b[0m\u001b[1;33m\u001b[0m\u001b[1;33m\u001b[0m\u001b[0m\n\u001b[0;32m     83\u001b[0m             \u001b[0mprint\u001b[0m\u001b[1;33m(\u001b[0m\u001b[1;34m\"was not able to measure pendant drop\"\u001b[0m\u001b[1;33m)\u001b[0m\u001b[1;33m\u001b[0m\u001b[1;33m\u001b[0m\u001b[0m\n",
      "\u001b[1;32mc:\\Users\\pimda\\Documents\\PendantProp\\protocols\\protocol.py\u001b[0m in \u001b[0;36m?\u001b[1;34m(self, well_id, surface_tension_eq)\u001b[0m\n\u001b[0;32m    106\u001b[0m             \u001b[1;34m\"Temperature (C)\"\u001b[0m\u001b[1;33m:\u001b[0m \u001b[0mfloat\u001b[0m\u001b[1;33m(\u001b[0m\u001b[0msensor_data\u001b[0m\u001b[1;33m[\u001b[0m\u001b[1;34m\"Temperature (C)\"\u001b[0m\u001b[1;33m]\u001b[0m\u001b[1;33m)\u001b[0m\u001b[1;33m,\u001b[0m\u001b[1;33m\u001b[0m\u001b[1;33m\u001b[0m\u001b[0m\n\u001b[0;32m    107\u001b[0m             \u001b[1;34m\"Humidity (%)\"\u001b[0m\u001b[1;33m:\u001b[0m \u001b[0mfloat\u001b[0m\u001b[1;33m(\u001b[0m\u001b[0msensor_data\u001b[0m\u001b[1;33m[\u001b[0m\u001b[1;34m\"Humidity (%)\"\u001b[0m\u001b[1;33m]\u001b[0m\u001b[1;33m)\u001b[0m\u001b[1;33m,\u001b[0m\u001b[1;33m\u001b[0m\u001b[1;33m\u001b[0m\u001b[0m\n\u001b[0;32m    108\u001b[0m             \u001b[1;34m\"Pressure (Pa)\"\u001b[0m\u001b[1;33m:\u001b[0m \u001b[0mfloat\u001b[0m\u001b[1;33m(\u001b[0m\u001b[0msensor_data\u001b[0m\u001b[1;33m[\u001b[0m\u001b[1;34m\"Pressure (Pa)\"\u001b[0m\u001b[1;33m]\u001b[0m\u001b[1;33m)\u001b[0m\u001b[1;33m,\u001b[0m\u001b[1;33m\u001b[0m\u001b[1;33m\u001b[0m\u001b[0m\n\u001b[0;32m    109\u001b[0m         }\n\u001b[1;32m--> 110\u001b[1;33m         \u001b[0mself\u001b[0m\u001b[1;33m.\u001b[0m\u001b[0mresults\u001b[0m \u001b[1;33m=\u001b[0m \u001b[0mself\u001b[0m\u001b[1;33m.\u001b[0m\u001b[0mresults\u001b[0m\u001b[1;33m.\u001b[0m\u001b[0mappend\u001b[0m\u001b[1;33m(\u001b[0m\u001b[0mnew_row\u001b[0m\u001b[1;33m,\u001b[0m \u001b[0mignore_index\u001b[0m\u001b[1;33m=\u001b[0m\u001b[1;32mTrue\u001b[0m\u001b[1;33m)\u001b[0m\u001b[1;33m\u001b[0m\u001b[1;33m\u001b[0m\u001b[0m\n\u001b[0m",
      "\u001b[1;32mc:\\Users\\pimda\\anaconda3\\Lib\\site-packages\\pandas\\core\\generic.py\u001b[0m in \u001b[0;36m?\u001b[1;34m(self, name)\u001b[0m\n\u001b[0;32m   6200\u001b[0m             \u001b[1;32mand\u001b[0m \u001b[0mname\u001b[0m \u001b[1;32mnot\u001b[0m \u001b[1;32min\u001b[0m \u001b[0mself\u001b[0m\u001b[1;33m.\u001b[0m\u001b[0m_accessors\u001b[0m\u001b[1;33m\u001b[0m\u001b[1;33m\u001b[0m\u001b[0m\n\u001b[0;32m   6201\u001b[0m             \u001b[1;32mand\u001b[0m \u001b[0mself\u001b[0m\u001b[1;33m.\u001b[0m\u001b[0m_info_axis\u001b[0m\u001b[1;33m.\u001b[0m\u001b[0m_can_hold_identifiers_and_holds_name\u001b[0m\u001b[1;33m(\u001b[0m\u001b[0mname\u001b[0m\u001b[1;33m)\u001b[0m\u001b[1;33m\u001b[0m\u001b[1;33m\u001b[0m\u001b[0m\n\u001b[0;32m   6202\u001b[0m         ):\n\u001b[0;32m   6203\u001b[0m             \u001b[1;32mreturn\u001b[0m \u001b[0mself\u001b[0m\u001b[1;33m[\u001b[0m\u001b[0mname\u001b[0m\u001b[1;33m]\u001b[0m\u001b[1;33m\u001b[0m\u001b[1;33m\u001b[0m\u001b[0m\n\u001b[1;32m-> 6204\u001b[1;33m         \u001b[1;32mreturn\u001b[0m \u001b[0mobject\u001b[0m\u001b[1;33m.\u001b[0m\u001b[0m__getattribute__\u001b[0m\u001b[1;33m(\u001b[0m\u001b[0mself\u001b[0m\u001b[1;33m,\u001b[0m \u001b[0mname\u001b[0m\u001b[1;33m)\u001b[0m\u001b[1;33m\u001b[0m\u001b[1;33m\u001b[0m\u001b[0m\n\u001b[0m",
      "\u001b[1;31mAttributeError\u001b[0m: 'DataFrame' object has no attribute 'append'"
     ]
    }
   ],
   "source": [
    "protocol.measure_wells()"
   ]
  }
 ],
 "metadata": {
  "kernelspec": {
   "display_name": "base",
   "language": "python",
   "name": "python3"
  },
  "language_info": {
   "codemirror_mode": {
    "name": "ipython",
    "version": 3
   },
   "file_extension": ".py",
   "mimetype": "text/x-python",
   "name": "python",
   "nbconvert_exporter": "python",
   "pygments_lexer": "ipython3",
   "version": "3.11.7"
  }
 },
 "nbformat": 4,
 "nbformat_minor": 2
}
