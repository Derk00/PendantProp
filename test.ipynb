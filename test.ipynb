{
 "cells": [
  {
   "cell_type": "code",
   "execution_count": 1,
   "metadata": {},
   "outputs": [],
   "source": [
    "from hardware.opentrons.http_communications import Opentrons_http_api\n",
    "from hardware.opentrons.configuration import Configuration"
   ]
  },
  {
   "cell_type": "code",
   "execution_count": 2,
   "metadata": {},
   "outputs": [
    {
     "name": "stderr",
     "output_type": "stream",
     "text": [
      "2025-02-18 11:18:49,086 - INFO - Protocol already uploaded, using existing protocol.\n",
      "2025-02-18 11:18:55,916 - INFO - Run created succesfully (ID: cbc8aa9c-e011-495f-a069-9812024a5c6b).\n",
      "2025-02-18 11:18:57,699 - INFO - All custom labware definitions added.\n",
      "2025-02-18 11:18:58,519 - INFO - Labware loaded successfully\n",
      "2025-02-18 11:18:58,540 - INFO - Containers loaded successfully\n",
      "2025-02-18 11:19:02,569 - INFO - Pipettes loaded successfully\n"
     ]
    }
   ],
   "source": [
    "# initialize\n",
    "api = Opentrons_http_api()\n",
    "api.initialise()\n",
    "config = Configuration(http_api=api)\n",
    "labware = config.load_labware()\n",
    "containers = config.load_containers()\n",
    "pipettes = config.load_pipettes()\n",
    "right_pipette = pipettes[\"right\"]\n",
    "left_pipette = pipettes[\"left\"]"
   ]
  },
  {
   "cell_type": "code",
   "execution_count": 26,
   "metadata": {},
   "outputs": [
    {
     "name": "stdout",
     "output_type": "stream",
     "text": [
      "\n",
      "        Container object\n",
      "\n",
      "        Container type = Plate Well\n",
      "        Well ID = 8A3\n",
      "        Solution name: SDS_1\n",
      "        Concentration: 9.166666666666666\n",
      "        Inner diameter: 6.96 mm\n",
      "        Well: A3\n",
      "        Location: 8\n",
      "        Initial height: 2.00 mm\n",
      "        Current height: 2.00 mm\n",
      "        Current volume: 200 uL\n",
      "        \n"
     ]
    }
   ],
   "source": [
    "well_example = containers[\"8A3\"]\n",
    "print(well_example)"
   ]
  },
  {
   "cell_type": "code",
   "execution_count": 4,
   "metadata": {},
   "outputs": [
    {
     "name": "stderr",
     "output_type": "stream",
     "text": [
      "2025-02-18 11:19:28,032 - INFO - Robot homed.\n"
     ]
    }
   ],
   "source": [
    "api.home()"
   ]
  },
  {
   "cell_type": "code",
   "execution_count": 5,
   "metadata": {},
   "outputs": [
    {
     "name": "stderr",
     "output_type": "stream",
     "text": [
      "2025-02-18 11:19:36,416 - INFO - right pipette picked up tip from well A1 on tips P1000, 1.\n"
     ]
    }
   ],
   "source": [
    "right_pipette.pick_up_tip()"
   ]
  },
  {
   "cell_type": "code",
   "execution_count": 24,
   "metadata": {},
   "outputs": [
    {
     "name": "stderr",
     "output_type": "stream",
     "text": [
      "2025-02-18 11:24:44,234 - INFO - Container: aspirated 100 uL from this container with content 18.333333333333332 mM SDS_1.\n",
      "2025-02-18 11:24:44,235 - INFO - Aspirated 100 uL from 8A1 with right pipette.\n"
     ]
    }
   ],
   "source": [
    "right_pipette.aspirate(volume=100, source=containers[\"8A1\"])"
   ]
  },
  {
   "cell_type": "code",
   "execution_count": 25,
   "metadata": {},
   "outputs": [
    {
     "name": "stderr",
     "output_type": "stream",
     "text": [
      "2025-02-18 11:25:01,899 - INFO - Container: dispensed 100 uL into this container from source 8A1 containing 18.333333333333332 mM SDS_1.\n",
      "2025-02-18 11:25:01,901 - INFO - Dispensed 100 uL into well 8A3 with right pipette.\n"
     ]
    }
   ],
   "source": [
    "right_pipette.dispense(volume=100, destination=containers[\"8A3\"])"
   ]
  },
  {
   "cell_type": "code",
   "execution_count": 27,
   "metadata": {},
   "outputs": [
    {
     "name": "stderr",
     "output_type": "stream",
     "text": [
      "2025-02-18 11:25:32,416 - INFO - right pipette dropped tip into trash.\n"
     ]
    }
   ],
   "source": [
    "right_pipette.drop_tip()"
   ]
  },
  {
   "cell_type": "code",
   "execution_count": null,
   "metadata": {},
   "outputs": [],
   "source": [
    "right_pipette.pick_up_tip()"
   ]
  },
  {
   "cell_type": "code",
   "execution_count": null,
   "metadata": {},
   "outputs": [],
   "source": [
    "right_pipette.aspirate(volume=100, source=containers[\"9A2\"])"
   ]
  },
  {
   "cell_type": "code",
   "execution_count": null,
   "metadata": {},
   "outputs": [],
   "source": [
    "right_pipette.dispense(volume=100, destination=containers[\"8A2\"])"
   ]
  },
  {
   "cell_type": "code",
   "execution_count": null,
   "metadata": {},
   "outputs": [],
   "source": [
    "print(right_pipette)"
   ]
  }
 ],
 "metadata": {
  "kernelspec": {
   "display_name": "base",
   "language": "python",
   "name": "python3"
  },
  "language_info": {
   "codemirror_mode": {
    "name": "ipython",
    "version": 3
   },
   "file_extension": ".py",
   "mimetype": "text/x-python",
   "name": "python",
   "nbconvert_exporter": "python",
   "pygments_lexer": "ipython3",
   "version": "3.11.7"
  }
 },
 "nbformat": 4,
 "nbformat_minor": 2
}
