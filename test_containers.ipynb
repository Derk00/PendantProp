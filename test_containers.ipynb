{
 "cells": [
  {
   "cell_type": "code",
   "execution_count": 1,
   "metadata": {},
   "outputs": [],
   "source": [
    "from hardware.opentrons.http_communications import Opentrons_http_api\n",
    "from hardware.opentrons.configuration import Configuration\n",
    "from hardware.cameras import PendantDropCamera"
   ]
  },
  {
   "cell_type": "code",
   "execution_count": 2,
   "metadata": {},
   "outputs": [
    {
     "name": "stderr",
     "output_type": "stream",
     "text": [
      "2025-02-10 16:47:16,102 - INFO - Protocol already uploaded, using existing protocol.\n",
      "2025-02-10 16:47:23,335 - INFO - Run created succesfully (ID: 115e3eb7-0f0e-4d9a-b7f2-a6708269a143).\n",
      "2025-02-10 16:47:25,085 - INFO - All custom labware definitions added.\n",
      "2025-02-10 16:47:25,917 - INFO - Labware loaded successfully\n",
      "2025-02-10 16:47:25,917 - INFO - Containers loaded successfully\n",
      "2025-02-10 16:47:30,075 - INFO - Pipettes loaded successfully\n"
     ]
    },
    {
     "name": "stdout",
     "output_type": "stream",
     "text": [
      "Camera: initialized\n"
     ]
    }
   ],
   "source": [
    "# initialize\n",
    "api = Opentrons_http_api()\n",
    "api.initialise()\n",
    "config = Configuration(http_api=api)\n",
    "labware = config.load_labware()\n",
    "containers = config.load_containers()\n",
    "pipettes = config.load_pipettes()\n",
    "right_pipette = pipettes[\"right\"]\n",
    "left_pipette = pipettes[\"left\"]\n",
    "pd_cam = PendantDropCamera()"
   ]
  },
  {
   "cell_type": "code",
   "execution_count": 3,
   "metadata": {},
   "outputs": [
    {
     "name": "stderr",
     "output_type": "stream",
     "text": [
      "2025-02-10 16:47:54,219 - INFO - Robot homed.\n"
     ]
    }
   ],
   "source": [
    "api.home()"
   ]
  },
  {
   "cell_type": "code",
   "execution_count": 4,
   "metadata": {},
   "outputs": [
    {
     "name": "stderr",
     "output_type": "stream",
     "text": [
      "2025-02-10 16:48:01,002 - INFO - left pipette (p20_single_gen2) picked up tip from well A1 on tips P20, 1.\n",
      "2025-02-10 16:48:06,369 - INFO - touched tip, repeated 1 times\n",
      "2025-02-10 16:48:06,373 - INFO - Container: Aspirated 20 uL from this container with content water\n",
      "2025-02-10 16:48:06,373 - INFO - Aspirated 20 uL from water (well A1 on plate 1) with left pipette (p20_single_gen2)\n",
      "2025-02-10 16:48:10,748 - INFO - camera: updated well id to 6A1\n",
      "2025-02-10 16:48:20,318 - INFO - Drop stage: measured pendant drop from 6A1. See container log for more details.\n",
      "2025-02-10 16:48:20,318 - INFO - Dispensed 13 uL into well 10A1 with left pipette (p20_single_gen2)\n",
      "2025-02-10 16:48:30,368 - INFO - Delay of 10 seconds & 0 minutes.\n",
      "2025-02-10 16:48:31,819 - INFO - Aspirated 13 uL from water (well A1 on drop_stage) with left pipette (p20_single_gen2)\n",
      "2025-02-10 16:48:35,853 - INFO - Container: Dispensed 20 uL into this container from source A1 of plate 1 (6A1) containing water\n",
      "2025-02-10 16:48:35,853 - INFO - Dispensed 20 uL into well 6A1 with left pipette (p20_single_gen2)\n",
      "2025-02-10 16:48:46,419 - INFO - left pipette (p20_single_gen2) dropped tip into trash.\n"
     ]
    },
    {
     "data": {
      "text/plain": [
       "[[0.487292, 69.44793898329624],\n",
       " [0.640505, 70.90009712423254],\n",
       " [0.959251, 70.90009712423254],\n",
       " [1.151475, 69.09229900814405],\n",
       " [1.308029, 70.90009712423254],\n",
       " [1.459532, 69.44793898329624],\n",
       " [1.616879, 69.09229900814405],\n",
       " [1.768158, 69.44793898329624],\n",
       " [1.929066, 70.53521166700502],\n",
       " [2.081401, 69.44793898329624],\n",
       " [2.267544, 69.44793898329624],\n",
       " [2.439479, 69.44793898329624],\n",
       " [2.625008, 70.53521166700502],\n",
       " [3.26571, 69.44793898329624],\n",
       " [3.450752, 70.16656438684412],\n",
       " [3.609499, 69.44793898329624],\n",
       " [3.935157, 71.26750594795489],\n",
       " [4.089435, 70.16656438684412],\n",
       " [4.583595, 70.53521166700502],\n",
       " [4.911078, 69.44793898329624],\n",
       " [5.229152, 70.53521166700502],\n",
       " [6.145712, 69.44793898329624],\n",
       " [7.045606, 70.16656438684412],\n",
       " [7.255784, 69.08442543746462],\n",
       " [7.724958, 69.8060198614088],\n",
       " [7.973606, 69.8060198614088],\n",
       " [8.184513, 70.16656438684412],\n",
       " [8.808783, 69.44793898329624],\n",
       " [9.476056, 69.8060198614088],\n",
       " [9.688183, 70.16656438684412],\n",
       " [9.894806, 70.52959555595413]]"
      ]
     },
     "execution_count": 4,
     "metadata": {},
     "output_type": "execute_result"
    }
   ],
   "source": [
    "left_pipette.measure_pendant_drop(\n",
    "    source=containers[\"6A1\"], drop_volume=13, delay=10, flow_rate=2, pendant_drop_camera=pd_cam\n",
    ")"
   ]
  },
  {
   "cell_type": "code",
   "execution_count": 5,
   "metadata": {},
   "outputs": [],
   "source": [
    "# left_pipette.dispense(\n",
    "#     volume=12,\n",
    "#     source=containers[\"6A1\"],\n",
    "#     destination=containers[\"drop_stage\"],\n",
    "#     depth_offset=-23.4\n",
    "# )"
   ]
  }
 ],
 "metadata": {
  "kernelspec": {
   "display_name": "base",
   "language": "python",
   "name": "python3"
  },
  "language_info": {
   "codemirror_mode": {
    "name": "ipython",
    "version": 3
   },
   "file_extension": ".py",
   "mimetype": "text/x-python",
   "name": "python",
   "nbconvert_exporter": "python",
   "pygments_lexer": "ipython3",
   "version": "3.11.7"
  }
 },
 "nbformat": 4,
 "nbformat_minor": 2
}
