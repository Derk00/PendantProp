{
 "cells": [
  {
   "cell_type": "code",
   "execution_count": 1,
   "metadata": {},
   "outputs": [],
   "source": [
    "from hardware.opentrons.http_communications import Opentrons_http_api\n",
    "from hardware.opentrons.configuration import Configuration"
   ]
  },
  {
   "cell_type": "code",
   "execution_count": 2,
   "metadata": {},
   "outputs": [
    {
     "name": "stderr",
     "output_type": "stream",
     "text": [
      "2025-02-05 16:34:52,805 - INFO - Protocol already uploaded, using existing protocol.\n",
      "2025-02-05 16:34:59,587 - INFO - Run created succesfully (ID: b60e1121-f856-4a65-a1b9-f411ae3d9dd6).\n",
      "2025-02-05 16:35:00,971 - INFO - All custom labware definitions added.\n",
      "2025-02-05 16:35:01,572 - INFO - Labware loaded successfully\n",
      "2025-02-05 16:35:05,693 - INFO - Pipettes loaded successfully\n",
      "2025-02-05 16:35:05,694 - INFO - Containers loaded successfully\n"
     ]
    },
    {
     "name": "stdout",
     "output_type": "stream",
     "text": [
      "tube rack 15 mL\n",
      "plate 1\n",
      "plate 1\n"
     ]
    }
   ],
   "source": [
    "# initialize\n",
    "api = Opentrons_http_api()\n",
    "api.initialise()\n",
    "config = Configuration(http_api=api)\n",
    "labware = config.load_labware()\n",
    "pipettes = config.load_pipettes()\n",
    "containers = config.load_containers()\n",
    "right_pipette = pipettes[\"right\"]\n",
    "left_pipette = pipettes[\"left\"]"
   ]
  },
  {
   "cell_type": "code",
   "execution_count": 3,
   "metadata": {},
   "outputs": [
    {
     "name": "stdout",
     "output_type": "stream",
     "text": [
      "{'3A1': <hardware.opentrons.containers.FalconTube15 object at 0x000001176B26A950>, 'drop_stage': <hardware.opentrons.containers.DropStage object at 0x000001176B269C50>, 'light_holder': <hardware.opentrons.containers.LightHolder object at 0x000001176B268E50>, '6A1': <hardware.opentrons.containers.PlateWell object at 0x000001176B26A010>, '6B1': <hardware.opentrons.containers.PlateWell object at 0x000001176B25FE50>}\n"
     ]
    }
   ],
   "source": [
    "print(containers)"
   ]
  },
  {
   "cell_type": "code",
   "execution_count": null,
   "metadata": {},
   "outputs": [],
   "source": [
    "# left_pipette.pick_up_tip()\n",
    "# left_pipette.aspirate(volume=20, source=containers[\"3A1\"])\n",
    "# left_pipette.dispense(volume = 5, source=containers[\"3A1\"], destination=containers[\"drop_stage\"])\n",
    "left_pipette.drop_tip()"
   ]
  },
  {
   "cell_type": "code",
   "execution_count": null,
   "metadata": {},
   "outputs": [],
   "source": [
    "left_pipette.dispense(\n",
    "    volume=10,\n",
    "    source=containers[\"3A1\"],\n",
    "    destination=containers[\"drop_stage\"],\n",
    "    depth_offset=-23.4,\n",
    ")"
   ]
  }
 ],
 "metadata": {
  "kernelspec": {
   "display_name": "base",
   "language": "python",
   "name": "python3"
  },
  "language_info": {
   "codemirror_mode": {
    "name": "ipython",
    "version": 3
   },
   "file_extension": ".py",
   "mimetype": "text/x-python",
   "name": "python",
   "nbconvert_exporter": "python",
   "pygments_lexer": "ipython3",
   "version": "3.11.7"
  }
 },
 "nbformat": 4,
 "nbformat_minor": 2
}
