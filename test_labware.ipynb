{
 "cells": [
  {
   "cell_type": "code",
   "execution_count": 1,
   "metadata": {},
   "outputs": [],
   "source": [
    "from hardware.opentrons.http_communications import Opentrons_http_api\n",
    "from hardware.opentrons.configuration import Configuration\n",
    "from hardware.cameras import PendantDropCamera\n",
    "from utils.load_save_functions import load_settings"
   ]
  },
  {
   "cell_type": "code",
   "execution_count": 3,
   "metadata": {},
   "outputs": [
    {
     "name": "stderr",
     "output_type": "stream",
     "text": [
      "2025-02-13 16:43:02,858 - INFO - Protocol already uploaded, using existing protocol.\n",
      "2025-02-13 16:43:10,658 - INFO - Run created succesfully (ID: 3b49502c-b3f9-4268-b3b4-782fae54307e).\n",
      "2025-02-13 16:43:12,414 - INFO - All custom labware definitions added.\n",
      "2025-02-13 16:43:13,236 - INFO - Labware loaded successfully\n",
      "2025-02-13 16:43:13,242 - INFO - Containers loaded successfully\n",
      "2025-02-13 16:43:17,408 - INFO - Pipettes loaded successfully\n"
     ]
    },
    {
     "name": "stdout",
     "output_type": "stream",
     "text": [
      "Camera: initialized\n"
     ]
    }
   ],
   "source": [
    "# initialize\n",
    "settings = load_settings()\n",
    "\n",
    "api = Opentrons_http_api()\n",
    "\n",
    "api.initialise()\n",
    "\n",
    "config = Configuration(http_api=api)\n",
    "\n",
    "labware = config.load_labware()\n",
    "\n",
    "containers = config.load_containers()\n",
    "\n",
    "pipettes = config.load_pipettes()\n",
    "\n",
    "right_pipette = pipettes[\"right\"]\n",
    "\n",
    "left_pipette = pipettes[\"left\"]\n",
    "\n",
    "pd_cam = PendantDropCamera()"
   ]
  },
  {
   "cell_type": "code",
   "execution_count": 7,
   "metadata": {},
   "outputs": [
    {
     "name": "stderr",
     "output_type": "stream",
     "text": [
      "2025-02-13 16:54:27,148 - INFO - Robot homed.\n"
     ]
    }
   ],
   "source": [
    "api.home()"
   ]
  },
  {
   "cell_type": "code",
   "execution_count": 9,
   "metadata": {},
   "outputs": [
    {
     "name": "stderr",
     "output_type": "stream",
     "text": [
      "2025-02-13 16:57:24,332 - INFO - left pipette (p20_single_gen2) picked up tip from well E1 on tips P20, 1.\n",
      "2025-02-13 16:57:24,332 - WARNING - left pipette (p20_single_gen2) is not clean! Aspirating anyway...\n",
      "2025-02-13 16:57:37,159 - INFO - done with mixing in 8A2 with order before, with volume 15, repeated 5 times\n",
      "2025-02-13 16:57:45,259 - INFO - Container: Aspirated 15 uL from this container with content nan\n",
      "2025-02-13 16:57:45,263 - INFO - Aspirated 15 uL from nan (well A2 on plate) with left pipette (p20_single_gen2)\n",
      "2025-02-13 16:57:49,026 - INFO - air gap of 5 uL performed in left pipette.\n",
      "2025-02-13 16:57:59,193 - INFO - air gap of 5 uL removed in left pipette.\n",
      "2025-02-13 16:57:59,193 - INFO - camera: updated well id to 8A2\n",
      "2025-02-13 16:58:05,142 - INFO - Dispensed 10 uL into well 10A1 with left pipette (p20_single_gen2)\n",
      "2025-02-13 16:58:35,192 - INFO - Delay of 30 seconds & 0 minutes.\n",
      "2025-02-13 16:58:35,329 - WARNING - left pipette (p20_single_gen2) is not clean! Aspirating anyway...\n",
      "2025-02-13 16:58:36,228 - INFO - Aspirated 10 uL from nan (well A1 on drop_stage) with left pipette (p20_single_gen2)\n",
      "2025-02-13 16:58:39,862 - INFO - Container: Dispensed 15 uL into this container from source A1 of drop_stage (10A1) containing nan\n",
      "2025-02-13 16:58:39,862 - INFO - Dispensed 15 uL into well 8A2 with left pipette (p20_single_gen2)\n",
      "2025-02-13 16:58:50,393 - INFO - left pipette (p20_single_gen2) dropped tip into trash.\n"
     ]
    },
    {
     "data": {
      "text/plain": [
       "[[0.0, 70.68011172700595],\n",
       " [0.220479, 70.97804047594155],\n",
       " [0.432393, 70.68011172700595],\n",
       " [0.654376, 71.00977699486297],\n",
       " [0.868015, 69.50543453348325],\n",
       " [1.118022, 71.3090898128754],\n",
       " [1.331972, 72.55397756973018],\n",
       " [1.552075, 71.00977699486297],\n",
       " [1.761546, 70.71218879012079],\n",
       " [1.97764, 69.50543453348325],\n",
       " [2.220454, 71.00977699486297],\n",
       " [2.463116, 70.41631233851399],\n",
       " [2.684459, 71.64134424592046],\n",
       " [2.911152, 72.2479986856337],\n",
       " [3.127279, 70.71218879012079],\n",
       " [3.366633, 71.64134424592046],\n",
       " [3.604219, 70.41631233851399],\n",
       " [3.823393, 72.55397756973018],\n",
       " [4.043334, 70.41631233851399],\n",
       " [4.267018, 72.2479986856337],\n",
       " [4.517651, 70.71218879012079],\n",
       " [4.798281, 71.94379200283653],\n",
       " [5.084774, 72.2479986856337],\n",
       " [5.37262, 70.71218879012079],\n",
       " [5.67089, 70.71218879012079],\n",
       " [5.961442, 70.41631233851399],\n",
       " [6.235091, 72.2479986856337],\n",
       " [6.509825, 72.2479986856337],\n",
       " [6.833271, 70.71218879012079],\n",
       " [7.114401, 70.71218879012079],\n",
       " [7.38748, 72.89167265675326],\n",
       " [7.679719, 72.89167265675326],\n",
       " [7.98196, 71.94379200283653],\n",
       " [8.260956, 72.2479986856337],\n",
       " [8.536022, 71.94379200283653],\n",
       " [8.826361, 72.89167265675326],\n",
       " [9.134736, 70.71218879012079],\n",
       " [9.411576, 72.55397756973018],\n",
       " [9.686211, 70.71218879012079],\n",
       " [9.954352, 71.94379200283653],\n",
       " [10.266396, 72.2479986856337],\n",
       " [10.551056, 72.2479986856337],\n",
       " [10.812742, 72.2479986856337],\n",
       " [11.090295, 71.94379200283653],\n",
       " [11.393861, 70.71218879012079],\n",
       " [11.772331, 72.55397756973018],\n",
       " [12.066808, 72.55397756973018],\n",
       " [12.354199, 72.2479986856337],\n",
       " [12.687297, 72.55397756973018],\n",
       " [12.986338, 71.00977699486297],\n",
       " [13.26833, 71.64134424592046],\n",
       " [13.540429, 72.2479986856337],\n",
       " [13.85027, 72.2479986856337],\n",
       " [14.125821, 72.55397756973018],\n",
       " [14.400346, 73.17130564967859],\n",
       " [14.688683, 72.86174205152103],\n",
       " [15.00008, 71.3090898128754],\n",
       " [15.273779, 71.3090898128754],\n",
       " [15.548973, 71.94379200283653],\n",
       " [15.841421, 71.3090898128754],\n",
       " [16.150013, 72.55397756973018],\n",
       " [16.42915, 71.3090898128754],\n",
       " [16.715524, 79.84745345870185],\n",
       " [17.249694, 76.06660467472219],\n",
       " [17.528581, 78.13476357262778],\n",
       " [17.799585, 68.32292631419321],\n",
       " [18.099269, 72.55397756973018],\n",
       " [18.466686, 74.45584596347285],\n",
       " [18.748639, 70.08939099858944],\n",
       " [19.024669, 71.00977699486297],\n",
       " [19.312747, 69.50543453348325],\n",
       " [19.617251, 74.13934095110596],\n",
       " [19.904289, 72.2479986856337],\n",
       " [20.280198, 71.00977699486297],\n",
       " [20.555472, 72.2479986856337],\n",
       " [20.858234, 70.71218879012079],\n",
       " [21.134118, 72.55397756973018],\n",
       " [21.399629, 72.2479986856337],\n",
       " [21.672929, 71.00977699486297],\n",
       " [21.984031, 72.55397756973018],\n",
       " [22.256284, 72.2479986856337],\n",
       " [22.52589, 70.08939099858944],\n",
       " [22.812775, 69.79657353325501],\n",
       " [23.101242, 70.71218879012079],\n",
       " [23.400389, 71.3090898128754],\n",
       " [23.675311, 68.86054308197322],\n",
       " [24.20016, 63.00986409150534],\n",
       " [24.492743, 79.47872569095739],\n",
       " [24.992118, 68.57374370194844],\n",
       " [25.734034, 62.34347741294201],\n",
       " [26.007713, 87.27904809042971],\n",
       " [26.935733, 73.7672607209327],\n",
       " [27.20665, 71.61014022091851],\n",
       " [28.388397, 76.42024404552077],\n",
       " [28.659952, 72.80239156239053],\n",
       " [28.970234, 69.47219389760487],\n",
       " [29.252214, 78.13476357262778]]"
      ]
     },
     "execution_count": 9,
     "metadata": {},
     "output_type": "execute_result"
    }
   ],
   "source": [
    "left_pipette.measure_pendant_drop(source=containers['8A2'], drop_volume=10, delay=30, flow_rate=2, pendant_drop_camera=pd_cam)"
   ]
  }
 ],
 "metadata": {
  "kernelspec": {
   "display_name": "base",
   "language": "python",
   "name": "python3"
  },
  "language_info": {
   "codemirror_mode": {
    "name": "ipython",
    "version": 3
   },
   "file_extension": ".py",
   "mimetype": "text/x-python",
   "name": "python",
   "nbconvert_exporter": "python",
   "pygments_lexer": "ipython3",
   "version": "3.11.7"
  }
 },
 "nbformat": 4,
 "nbformat_minor": 2
}
