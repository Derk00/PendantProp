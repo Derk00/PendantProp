{
 "cells": [
  {
   "cell_type": "code",
   "execution_count": null,
   "metadata": {},
   "outputs": [],
   "source": [
    "from hardware.opentrons.http_communications import Opentrons_http_api\n",
    "from hardware.opentrons.configuration import Configuration\n",
    "from hardware.cameras import PendantDropCamera"
   ]
  },
  {
   "cell_type": "code",
   "execution_count": null,
   "metadata": {},
   "outputs": [
    {
     "name": "stderr",
     "output_type": "stream",
     "text": [
      "2025-02-13 13:34:17,744 - INFO - Protocol already uploaded, using existing protocol.\n",
      "2025-02-13 13:34:24,928 - INFO - Run created succesfully (ID: bc299c52-e0fb-471f-9860-3b05f7846372).\n",
      "2025-02-13 13:34:26,749 - INFO - All custom labware definitions added.\n",
      "2025-02-13 13:34:27,614 - INFO - Labware loaded successfully\n",
      "2025-02-13 13:34:27,615 - INFO - Containers loaded successfully\n",
      "2025-02-13 13:34:31,728 - INFO - Pipettes loaded successfully\n"
     ]
    }
   ],
   "source": [
    "# initialize\n",
    "# api = Opentrons_http_api()\n",
    "# api.initialise()\n",
    "# config = Configuration(http_api=api)\n",
    "# labware = config.load_labware()\n",
    "# containers = config.load_containers()\n",
    "# pipettes = config.load_pipettes()\n",
    "# right_pipette = pipettes[\"right\"]\n",
    "# left_pipette = pipettes[\"left\"]\n"
   ]
  },
  {
   "cell_type": "code",
   "execution_count": 3,
   "metadata": {},
   "outputs": [
    {
     "name": "stderr",
     "output_type": "stream",
     "text": [
      "2025-02-13 13:34:53,378 - INFO - Robot homed.\n"
     ]
    }
   ],
   "source": [
    "api.home()"
   ]
  },
  {
   "cell_type": "code",
   "execution_count": 4,
   "metadata": {},
   "outputs": [
    {
     "name": "stderr",
     "output_type": "stream",
     "text": [
      "2025-02-13 13:35:26,730 - INFO - left pipette (p20_single_gen2) picked up tip from well A1 on tips P20, 1.\n"
     ]
    }
   ],
   "source": [
    "left_pipette.pick_up_tip()"
   ]
  },
  {
   "cell_type": "code",
   "execution_count": 5,
   "metadata": {},
   "outputs": [
    {
     "name": "stderr",
     "output_type": "stream",
     "text": [
      "2025-02-13 13:35:35,627 - INFO - touched tip, repeated 1 times\n",
      "2025-02-13 13:35:35,628 - INFO - Container: Aspirated 15 uL from this container with content water\n",
      "2025-02-13 13:35:35,628 - INFO - Aspirated 15 uL from water (well A1 on tube rack 15 mL) with left pipette (p20_single_gen2)\n"
     ]
    }
   ],
   "source": [
    "left_pipette.aspirate(15, source=containers[\"9A1\"], touch_tip=True)\n",
    "# right_pipette.dispense(100, destination=containers[\"9A5\"])\n",
    "# right_pipette.transfer(100, containers[\"9A1\"], containers[\"9A5\"])"
   ]
  },
  {
   "cell_type": "code",
   "execution_count": 8,
   "metadata": {},
   "outputs": [
    {
     "name": "stderr",
     "output_type": "stream",
     "text": [
      "2025-02-13 13:37:13,361 - INFO - air gap of 5 uL performed in left pipette.\n"
     ]
    }
   ],
   "source": [
    "left_pipette.air_gap(air_volume=5)"
   ]
  },
  {
   "cell_type": "code",
   "execution_count": null,
   "metadata": {},
   "outputs": [
    {
     "name": "stderr",
     "output_type": "stream",
     "text": [
      "2025-02-13 13:37:26,544 - INFO - air gap of 5 uL removed in left pipette.\n"
     ]
    }
   ],
   "source": [
    "left_pipette.remove_air_gap(at_drop_stage=True)"
   ]
  },
  {
   "cell_type": "code",
   "execution_count": null,
   "metadata": {},
   "outputs": [
    {
     "name": "stderr",
     "output_type": "stream",
     "text": [
      "2025-02-13 13:38:04,998 - INFO - left pipette (p20_single_gen2) dropped tip into trash.\n"
     ]
    }
   ],
   "source": [
    "left_pipette.measure_pendant_drop(source=containers[\"9A1\"], drop_volume=10, delay=180, flow_rate=2)"
   ]
  },
  {
   "cell_type": "code",
   "execution_count": null,
   "metadata": {},
   "outputs": [],
   "source": [
    "right_pipette.pick_up_tip()\n",
    "right_pipette.aspirate(volume=100, source=containers[\"9A1\"], touch_tip=True)\n",
    "# right_pipette.dispense(volume=100, source=containers[\"3C1\"], destination=containers[\"3C5\"], touch_tip=True)"
   ]
  },
  {
   "cell_type": "code",
   "execution_count": null,
   "metadata": {},
   "outputs": [],
   "source": [
    "right_pipette.drop_tip(return_tip=True)"
   ]
  },
  {
   "cell_type": "code",
   "execution_count": null,
   "metadata": {},
   "outputs": [],
   "source": []
  }
 ],
 "metadata": {
  "kernelspec": {
   "display_name": "base",
   "language": "python",
   "name": "python3"
  },
  "language_info": {
   "codemirror_mode": {
    "name": "ipython",
    "version": 3
   },
   "file_extension": ".py",
   "mimetype": "text/x-python",
   "name": "python",
   "nbconvert_exporter": "python",
   "pygments_lexer": "ipython3",
   "version": "3.11.7"
  }
 },
 "nbformat": 4,
 "nbformat_minor": 2
}
