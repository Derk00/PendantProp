{
 "cells": [
  {
   "cell_type": "code",
   "execution_count": 1,
   "metadata": {},
   "outputs": [],
   "source": [
    "from hardware.opentrons.http_communications import Opentrons_http_api\n",
    "from hardware.opentrons.configuration import Configuration"
   ]
  },
  {
   "cell_type": "code",
   "execution_count": 2,
   "metadata": {},
   "outputs": [
    {
     "name": "stderr",
     "output_type": "stream",
     "text": [
      "2025-02-13 10:29:39,615 - INFO - Protocol already uploaded, using existing protocol.\n",
      "2025-02-13 10:29:46,819 - INFO - Run created succesfully (ID: d27c6c62-3ec9-4991-921c-b9597c578fe3).\n",
      "2025-02-13 10:29:48,545 - INFO - All custom labware definitions added.\n",
      "2025-02-13 10:29:49,363 - INFO - Labware loaded successfully\n",
      "2025-02-13 10:29:49,375 - INFO - Containers loaded successfully\n",
      "2025-02-13 10:29:53,517 - INFO - Pipettes loaded successfully\n"
     ]
    }
   ],
   "source": [
    "# initialize\n",
    "api = Opentrons_http_api()\n",
    "api.initialise()\n",
    "config = Configuration(http_api=api)\n",
    "labware = config.load_labware()\n",
    "containers = config.load_containers()\n",
    "pipettes = config.load_pipettes()\n",
    "right_pipette = pipettes[\"right\"]\n",
    "left_pipette = pipettes[\"left\"]"
   ]
  },
  {
   "cell_type": "code",
   "execution_count": 3,
   "metadata": {},
   "outputs": [
    {
     "name": "stderr",
     "output_type": "stream",
     "text": [
      "2025-02-13 10:30:14,120 - INFO - Robot homed.\n"
     ]
    }
   ],
   "source": [
    "api.home()"
   ]
  },
  {
   "cell_type": "code",
   "execution_count": 4,
   "metadata": {},
   "outputs": [
    {
     "name": "stderr",
     "output_type": "stream",
     "text": [
      "2025-02-13 10:30:23,329 - INFO - right pipette (p1000_single_gen2) picked up tip from well A1 on tips P1000, 1.\n"
     ]
    }
   ],
   "source": [
    "right_pipette.pick_up_tip()"
   ]
  },
  {
   "cell_type": "code",
   "execution_count": 6,
   "metadata": {},
   "outputs": [],
   "source": [
    "# offset = {'x': -1, 'y': 0.8, 'z': 0}\n",
    "offset = {'x': 0, 'y': 0, 'z': 0} \n",
    "right_pipette.move_to_well(container=containers[\"3C1\"], offset=offset)"
   ]
  },
  {
   "cell_type": "code",
   "execution_count": 8,
   "metadata": {},
   "outputs": [
    {
     "name": "stderr",
     "output_type": "stream",
     "text": [
      "2025-02-13 10:32:56,864 - INFO - touched tip, repeated 1 times\n",
      "2025-02-13 10:32:56,864 - INFO - Container: Aspirated 100 uL from this container with content water\n",
      "2025-02-13 10:32:56,864 - INFO - Aspirated 100 uL from water (well C1 on tube rack 15 mL) with right pipette (p1000_single_gen2)\n",
      "2025-02-13 10:33:02,431 - INFO - touched tip, repeated 1 times\n",
      "2025-02-13 10:33:02,448 - INFO - Container: Dispensed 100 uL into this container from source C1 of tube rack 15 mL (3C1) containing water\n",
      "2025-02-13 10:33:02,448 - INFO - Dispensed 100 uL into well 3C5 with right pipette (p1000_single_gen2)\n"
     ]
    }
   ],
   "source": [
    "right_pipette.aspirate(volume=100, source=containers[\"3C1\"], touch_tip=True)\n",
    "right_pipette.dispense(volume=100, source=containers[\"3C1\"], destination=containers[\"3C5\"], touch_tip=True)"
   ]
  },
  {
   "cell_type": "code",
   "execution_count": null,
   "metadata": {},
   "outputs": [],
   "source": [
    "right_pipette.drop_tip()"
   ]
  },
  {
   "cell_type": "code",
   "execution_count": null,
   "metadata": {},
   "outputs": [],
   "source": []
  }
 ],
 "metadata": {
  "kernelspec": {
   "display_name": "base",
   "language": "python",
   "name": "python3"
  },
  "language_info": {
   "codemirror_mode": {
    "name": "ipython",
    "version": 3
   },
   "file_extension": ".py",
   "mimetype": "text/x-python",
   "name": "python",
   "nbconvert_exporter": "python",
   "pygments_lexer": "ipython3",
   "version": "3.11.7"
  }
 },
 "nbformat": 4,
 "nbformat_minor": 2
}
