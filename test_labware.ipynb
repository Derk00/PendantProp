{
 "cells": [
  {
   "cell_type": "code",
   "execution_count": 1,
   "metadata": {},
   "outputs": [],
   "source": [
    "from hardware.opentrons.http_communications import Opentrons_http_api\n",
    "from hardware.opentrons.configuration import Configuration"
   ]
  },
  {
   "cell_type": "code",
   "execution_count": 2,
   "metadata": {},
   "outputs": [
    {
     "name": "stderr",
     "output_type": "stream",
     "text": [
      "2025-02-13 12:08:54,332 - INFO - Protocol already uploaded, using existing protocol.\n",
      "2025-02-13 12:09:01,475 - INFO - Run created succesfully (ID: 3828f46e-6b3a-4eca-9dd3-93804e32c354).\n",
      "2025-02-13 12:09:03,221 - INFO - All custom labware definitions added.\n",
      "2025-02-13 12:09:04,046 - INFO - Labware loaded successfully\n",
      "2025-02-13 12:09:04,054 - INFO - Containers loaded successfully\n",
      "2025-02-13 12:09:08,220 - INFO - Pipettes loaded successfully\n"
     ]
    }
   ],
   "source": [
    "# initialize\n",
    "api = Opentrons_http_api()\n",
    "api.initialise()\n",
    "config = Configuration(http_api=api)\n",
    "labware = config.load_labware()\n",
    "containers = config.load_containers()\n",
    "pipettes = config.load_pipettes()\n",
    "right_pipette = pipettes[\"right\"]\n",
    "left_pipette = pipettes[\"left\"]"
   ]
  },
  {
   "cell_type": "code",
   "execution_count": 3,
   "metadata": {},
   "outputs": [
    {
     "name": "stderr",
     "output_type": "stream",
     "text": [
      "2025-02-13 12:09:29,538 - INFO - Robot homed.\n"
     ]
    }
   ],
   "source": [
    "api.home()"
   ]
  },
  {
   "cell_type": "code",
   "execution_count": null,
   "metadata": {},
   "outputs": [
    {
     "name": "stdout",
     "output_type": "stream",
     "text": [
      "{'LABWARE_ID': '804b0e02-75bb-424c-b753-cab1f22d4870', 'LABWARE_NAME': 'drop_stage', 'LOCATION': 10, 'CONTAINER_TYPE': 'Cuvette', 'WELL': 'A1', 'WELL_ID': '10A1', 'DEPTH': 45.5, 'height_mm': 45.5, 'MAX_VOLUME': 5000, 'solution_name': 'empty'}\n"
     ]
    }
   ],
   "source": [
    "drop_stage = containers[\"drop_stage\"]\n",
    "print(drop_stage.__dict__)\n"
   ]
  },
  {
   "cell_type": "code",
   "execution_count": 4,
   "metadata": {},
   "outputs": [
    {
     "name": "stderr",
     "output_type": "stream",
     "text": [
      "2025-02-13 12:09:38,124 - INFO - right pipette (p1000_single_gen2) picked up tip from well A1 on tips P1000, 1.\n"
     ]
    }
   ],
   "source": [
    "right_pipette.pick_up_tip()"
   ]
  },
  {
   "cell_type": "code",
   "execution_count": 5,
   "metadata": {},
   "outputs": [
    {
     "name": "stderr",
     "output_type": "stream",
     "text": [
      "2025-02-13 12:09:44,721 - INFO - touched tip, repeated 1 times\n",
      "2025-02-13 12:09:44,721 - INFO - Container: Aspirated 100 uL from this container with content water\n",
      "2025-02-13 12:09:44,721 - INFO - Aspirated 100 uL from water (well A1 on tube rack 15 mL) with right pipette (p1000_single_gen2)\n"
     ]
    }
   ],
   "source": [
    "right_pipette.aspirate(100, source=containers[\"9A1\"], touch_tip=True)\n",
    "# right_pipette.dispense(100, destination=containers[\"9A5\"])\n",
    "# right_pipette.transfer(100, containers[\"9A1\"], containers[\"9A5\"])"
   ]
  },
  {
   "cell_type": "code",
   "execution_count": 6,
   "metadata": {},
   "outputs": [
    {
     "name": "stderr",
     "output_type": "stream",
     "text": [
      "2025-02-13 12:09:49,938 - INFO - air gap of 100 uL performed in right pipette.\n"
     ]
    }
   ],
   "source": [
    "right_pipette.air_gap(air_volume=100)"
   ]
  },
  {
   "cell_type": "code",
   "execution_count": 7,
   "metadata": {},
   "outputs": [
    {
     "ename": "AttributeError",
     "evalue": "'NoneType' object has no attribute 'DEPTH'",
     "output_type": "error",
     "traceback": [
      "\u001b[1;31m---------------------------------------------------------------------------\u001b[0m",
      "\u001b[1;31mAttributeError\u001b[0m                            Traceback (most recent call last)",
      "Cell \u001b[1;32mIn[7], line 1\u001b[0m\n\u001b[1;32m----> 1\u001b[0m right_pipette\u001b[38;5;241m.\u001b[39mremove_air_gap(air_volume\u001b[38;5;241m=\u001b[39m\u001b[38;5;241m100\u001b[39m, at_drop_stage\u001b[38;5;241m=\u001b[39m\u001b[38;5;28;01mTrue\u001b[39;00m)\n",
      "File \u001b[1;32mc:\\Users\\pimda\\Documents\\PendantProp\\hardware\\opentrons\\pipette.py:385\u001b[0m, in \u001b[0;36mPipette.remove_air_gap\u001b[1;34m(self, air_volume, at_drop_stage)\u001b[0m\n\u001b[0;32m    382\u001b[0m     \u001b[38;5;28;01melse\u001b[39;00m:\n\u001b[0;32m    383\u001b[0m         container \u001b[38;5;241m=\u001b[39m \u001b[38;5;28mself\u001b[39m\u001b[38;5;241m.\u001b[39mlast_destination\n\u001b[1;32m--> 385\u001b[0m depth_offset \u001b[38;5;241m=\u001b[39m \u001b[38;5;241m0.05\u001b[39m \u001b[38;5;241m*\u001b[39m \u001b[38;5;28mself\u001b[39m\u001b[38;5;241m.\u001b[39mlast_destination\u001b[38;5;241m.\u001b[39mDEPTH \u001b[38;5;241m+\u001b[39m \u001b[38;5;28mself\u001b[39m\u001b[38;5;241m.\u001b[39mlast_source\u001b[38;5;241m.\u001b[39mheight_mm\n\u001b[0;32m    386\u001b[0m \u001b[38;5;28mself\u001b[39m\u001b[38;5;241m.\u001b[39mdispense(\n\u001b[0;32m    387\u001b[0m     volume\u001b[38;5;241m=\u001b[39mair_volume,\n\u001b[0;32m    388\u001b[0m     destination\u001b[38;5;241m=\u001b[39mcontainer,\n\u001b[1;32m   (...)\u001b[0m\n\u001b[0;32m    391\u001b[0m     update_info\u001b[38;5;241m=\u001b[39m\u001b[38;5;28;01mFalse\u001b[39;00m,\n\u001b[0;32m    392\u001b[0m )\n\u001b[0;32m    393\u001b[0m \u001b[38;5;28mself\u001b[39m\u001b[38;5;241m.\u001b[39mprotocol_logger\u001b[38;5;241m.\u001b[39minfo(\u001b[38;5;124mf\u001b[39m\u001b[38;5;124m\"\u001b[39m\u001b[38;5;124mair gap of \u001b[39m\u001b[38;5;132;01m{\u001b[39;00mair_volume\u001b[38;5;132;01m}\u001b[39;00m\u001b[38;5;124m uL removed in \u001b[39m\u001b[38;5;132;01m{\u001b[39;00m\u001b[38;5;28mself\u001b[39m\u001b[38;5;241m.\u001b[39mMOUNT\u001b[38;5;132;01m}\u001b[39;00m\u001b[38;5;124m pipette.\u001b[39m\u001b[38;5;124m\"\u001b[39m)\n",
      "\u001b[1;31mAttributeError\u001b[0m: 'NoneType' object has no attribute 'DEPTH'"
     ]
    }
   ],
   "source": [
    "right_pipette.remove_air_gap(air_volume=100, at_drop_stage=True)"
   ]
  },
  {
   "cell_type": "code",
   "execution_count": null,
   "metadata": {},
   "outputs": [],
   "source": [
    "right_pipette.pick_up_tip()\n",
    "right_pipette.aspirate(volume=100, source=containers[\"9A1\"], touch_tip=True)\n",
    "# right_pipette.dispense(volume=100, source=containers[\"3C1\"], destination=containers[\"3C5\"], touch_tip=True)"
   ]
  },
  {
   "cell_type": "code",
   "execution_count": null,
   "metadata": {},
   "outputs": [],
   "source": [
    "right_pipette.drop_tip(return_tip=True)"
   ]
  },
  {
   "cell_type": "code",
   "execution_count": null,
   "metadata": {},
   "outputs": [],
   "source": []
  }
 ],
 "metadata": {
  "kernelspec": {
   "display_name": "base",
   "language": "python",
   "name": "python3"
  },
  "language_info": {
   "codemirror_mode": {
    "name": "ipython",
    "version": 3
   },
   "file_extension": ".py",
   "mimetype": "text/x-python",
   "name": "python",
   "nbconvert_exporter": "python",
   "pygments_lexer": "ipython3",
   "version": "3.11.7"
  }
 },
 "nbformat": 4,
 "nbformat_minor": 2
}
