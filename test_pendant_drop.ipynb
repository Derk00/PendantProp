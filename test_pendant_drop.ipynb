{
 "cells": [
  {
   "cell_type": "code",
   "execution_count": 1,
   "metadata": {},
   "outputs": [
    {
     "name": "stderr",
     "output_type": "stream",
     "text": [
      "2025-01-22 17:55:29,450 - INFO - Protocol already uploaded, using existing protocol.\n",
      "2025-01-22 17:55:36,660 - INFO - Run created succesfully (ID: 5facb57a-98b6-41e7-93df-b92f36d4895a).\n",
      "2025-01-22 17:55:38,071 - INFO - All custom labware definitions added.\n",
      "2025-01-22 17:55:38,662 - INFO - Labware loaded successfully\n",
      "2025-01-22 17:55:42,810 - INFO - Pipettes loaded successfully\n",
      "2025-01-22 17:55:42,858 - INFO - Containers loaded successfully\n"
     ]
    }
   ],
   "source": [
    "from hardware.opentrons.http_communications import Opentrons_http_api\n",
    "from hardware.opentrons.configuration import Configuration\n",
    "\n",
    "# initialize\n",
    "api = Opentrons_http_api()\n",
    "api.initialise()\n",
    "config = Configuration(http_api=api)\n",
    "labware = config.load_labware()\n",
    "pipettes = config.load_pipettes()\n",
    "containers = config.load_containers()\n",
    "right_pipette = pipettes[\"right\"]\n",
    "left_pipette = pipettes[\"left\"]\n"
   ]
  },
  {
   "cell_type": "code",
   "execution_count": 2,
   "metadata": {},
   "outputs": [
    {
     "name": "stderr",
     "output_type": "stream",
     "text": [
      "2025-01-22 17:56:17,933 - INFO - Robot homed.\n"
     ]
    }
   ],
   "source": [
    "api.home()"
   ]
  },
  {
   "cell_type": "code",
   "execution_count": 19,
   "metadata": {},
   "outputs": [
    {
     "name": "stderr",
     "output_type": "stream",
     "text": [
      "2025-01-22 18:01:57,558 - ERROR - Could not pick up tip as left pipette (p20_single_gen2) already has one!\n",
      "2025-01-22 18:01:57,960 - INFO - Drop stage: measured pendant drop from 3A1. See container log for more details.\n",
      "2025-01-22 18:01:57,960 - INFO - Dispensed 1 uL into well 10A1 with left pipette (p20_single_gen2)\n"
     ]
    }
   ],
   "source": [
    "#! excutable robot commands\n",
    "left_pipette.pick_up_tip()\n",
    "# left_pipette.move_to_well(container=containers[\"drop_stage\"], offset={\"x\": 0, \"y\": 0, \"z\": -25.4})\n",
    "# left_pipette.aspirate(volume=20, source=containers[\"water\"])\n",
    "left_pipette.dispense(volume=1, source=containers[\"water\"], destination=containers[\"drop_stage\"], depth_offset=-25.4)"
   ]
  },
  {
   "cell_type": "code",
   "execution_count": 6,
   "metadata": {},
   "outputs": [
    {
     "name": "stderr",
     "output_type": "stream",
     "text": [
      "2025-01-22 17:59:09,638 - INFO - left pipette (p20_single_gen2) returned tip to well A1 on tips P20, 1.\n"
     ]
    }
   ],
   "source": [
    "left_pipette.drop_tip()"
   ]
  },
  {
   "cell_type": "code",
   "execution_count": 3,
   "metadata": {},
   "outputs": [
    {
     "name": "stderr",
     "output_type": "stream",
     "text": [
      "2025-01-22 17:56:38,345 - INFO - left pipette (p20_single_gen2) picked up tip from well A1 on tips P20, 1.\n"
     ]
    }
   ],
   "source": [
    "left_pipette.pick_up_tip()"
   ]
  }
 ],
 "metadata": {
  "kernelspec": {
   "display_name": "base",
   "language": "python",
   "name": "python3"
  },
  "language_info": {
   "codemirror_mode": {
    "name": "ipython",
    "version": 3
   },
   "file_extension": ".py",
   "mimetype": "text/x-python",
   "name": "python",
   "nbconvert_exporter": "python",
   "pygments_lexer": "ipython3",
   "version": "3.11.7"
  }
 },
 "nbformat": 4,
 "nbformat_minor": 2
}
