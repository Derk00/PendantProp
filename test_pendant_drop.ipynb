{
 "cells": [
  {
   "cell_type": "code",
   "execution_count": 1,
   "metadata": {},
   "outputs": [
    {
     "name": "stderr",
     "output_type": "stream",
     "text": [
      "2025-01-23 12:15:08,277 - INFO - Protocol already uploaded, using existing protocol.\n",
      "2025-01-23 12:15:14,967 - INFO - Run created succesfully (ID: 6fd37e48-54be-41f1-9f31-7b1b0e273ca8).\n",
      "2025-01-23 12:15:16,347 - INFO - All custom labware definitions added.\n",
      "2025-01-23 12:15:16,948 - INFO - Labware loaded successfully\n",
      "2025-01-23 12:15:20,994 - INFO - Pipettes loaded successfully\n",
      "2025-01-23 12:15:21,039 - INFO - Containers loaded successfully\n"
     ]
    }
   ],
   "source": [
    "from hardware.opentrons.http_communications import Opentrons_http_api\n",
    "from hardware.opentrons.configuration import Configuration\n",
    "\n",
    "# initialize\n",
    "api = Opentrons_http_api()\n",
    "api.initialise()\n",
    "config = Configuration(http_api=api)\n",
    "labware = config.load_labware()\n",
    "pipettes = config.load_pipettes()\n",
    "containers = config.load_containers()\n",
    "right_pipette = pipettes[\"right\"]\n",
    "left_pipette = pipettes[\"left\"]\n"
   ]
  },
  {
   "cell_type": "code",
   "execution_count": 2,
   "metadata": {},
   "outputs": [
    {
     "name": "stderr",
     "output_type": "stream",
     "text": [
      "2025-01-23 12:15:47,437 - INFO - Robot homed.\n"
     ]
    }
   ],
   "source": [
    "api.home()"
   ]
  },
  {
   "cell_type": "code",
   "execution_count": 3,
   "metadata": {},
   "outputs": [
    {
     "name": "stderr",
     "output_type": "stream",
     "text": [
      "2025-01-23 12:15:54,151 - INFO - left pipette (p20_single_gen2) picked up tip from well A1 on tips P20, 1.\n",
      "2025-01-23 12:15:54,663 - INFO - Camera: initialized\n",
      "2025-01-23 12:15:54,666 - INFO - camera: updated well id to 3A1\n",
      "2025-01-23 12:15:57,334 - INFO - Container: Aspirated 20 uL from this container with content water\n",
      "2025-01-23 12:15:57,337 - INFO - Aspirated 20 uL from water (well A1 on tube rack 15 mL) with left pipette (p20_single_gen2)\n",
      "2025-01-23 12:16:00,867 - INFO - Drop stage: measured pendant drop from 3A1. See container log for more details.\n",
      "2025-01-23 12:16:00,951 - INFO - Dispensed 8 uL into well 10A1 with left pipette (p20_single_gen2)\n",
      "2025-01-23 12:17:01,261 - INFO - Delay of 60 seconds & 0 minutes.\n",
      "2025-01-23 12:17:05,512 - INFO - Container: Dispensed 12 uL into this container from source A1 of tube rack 15 mL (3A1) containing water\n",
      "2025-01-23 12:17:05,512 - INFO - Dispensed 12 uL into well 3A1 with left pipette (p20_single_gen2)\n",
      "2025-01-23 12:17:15,431 - INFO - left pipette (p20_single_gen2) returned tip to well A1 on tips P20, 1.\n"
     ]
    }
   ],
   "source": [
    "left_pipette.pick_up_tip()\n",
    "left_pipette.measure_pendant_drop(\n",
    "    source=containers[\"water\"],\n",
    "    destination=containers[\"drop_stage\"],\n",
    "    drop_volume=8,\n",
    "    delay=60,\n",
    "    flow_rate=100,\n",
    ")\n",
    "left_pipette.drop_tip(return_tip=True)"
   ]
  },
  {
   "cell_type": "code",
   "execution_count": 4,
   "metadata": {},
   "outputs": [],
   "source": [
    "# left_pipette.drop_tip(return_tip=True)"
   ]
  },
  {
   "cell_type": "code",
   "execution_count": 5,
   "metadata": {},
   "outputs": [],
   "source": [
    "# left_pipette.pick_up_tip()"
   ]
  }
 ],
 "metadata": {
  "kernelspec": {
   "display_name": "base",
   "language": "python",
   "name": "python3"
  },
  "language_info": {
   "codemirror_mode": {
    "name": "ipython",
    "version": 3
   },
   "file_extension": ".py",
   "mimetype": "text/x-python",
   "name": "python",
   "nbconvert_exporter": "python",
   "pygments_lexer": "ipython3",
   "version": "3.11.7"
  }
 },
 "nbformat": 4,
 "nbformat_minor": 2
}
