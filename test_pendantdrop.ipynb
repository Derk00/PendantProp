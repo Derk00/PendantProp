{
 "cells": [
  {
   "cell_type": "code",
   "execution_count": 1,
   "metadata": {},
   "outputs": [],
   "source": [
    "from hardware.opentrons.http_communications import Opentrons_http_api\n",
    "from hardware.opentrons.configuration import Configuration"
   ]
  },
  {
   "cell_type": "code",
   "execution_count": 2,
   "metadata": {},
   "outputs": [
    {
     "name": "stderr",
     "output_type": "stream",
     "text": [
      "2025-02-11 11:43:44,781 - INFO - Protocol already uploaded, using existing protocol.\n",
      "2025-02-11 11:43:52,383 - INFO - Run created succesfully (ID: 741f5dd1-5aac-4ccb-8f14-5e86d1cae138).\n",
      "2025-02-11 11:43:54,230 - INFO - All custom labware definitions added.\n",
      "2025-02-11 11:43:54,993 - INFO - Labware loaded successfully\n",
      "2025-02-11 11:43:55,006 - INFO - Containers loaded successfully\n",
      "2025-02-11 11:43:59,108 - INFO - Pipettes loaded successfully\n"
     ]
    }
   ],
   "source": [
    "# initialize\n",
    "api = Opentrons_http_api()\n",
    "api.initialise()\n",
    "config = Configuration(http_api=api)\n",
    "labware = config.load_labware()\n",
    "containers = config.load_containers()\n",
    "pipettes = config.load_pipettes()\n",
    "right_pipette = pipettes[\"right\"]\n",
    "left_pipette = pipettes[\"left\"]"
   ]
  },
  {
   "cell_type": "code",
   "execution_count": 3,
   "metadata": {},
   "outputs": [
    {
     "name": "stderr",
     "output_type": "stream",
     "text": [
      "2025-02-11 11:44:23,833 - INFO - Robot homed.\n"
     ]
    }
   ],
   "source": [
    "api.home()"
   ]
  },
  {
   "cell_type": "code",
   "execution_count": null,
   "metadata": {},
   "outputs": [],
   "source": [
    "print(containers)"
   ]
  },
  {
   "cell_type": "code",
   "execution_count": null,
   "metadata": {},
   "outputs": [],
   "source": [
    "left_pipette.pick_up_tip()\n",
    "left_pipette.aspirate(volume=20, source=containers[\"6A1\"])\n",
    "left_pipette.clean_tip()"
   ]
  },
  {
   "cell_type": "code",
   "execution_count": null,
   "metadata": {},
   "outputs": [],
   "source": [
    "left_pipette.dispense(\n",
    "    volume=13,\n",
    "    source=containers[\"6A1\"],\n",
    "    destination=containers[\"drop_stage\"],\n",
    "    depth_offset=-23.4,\n",
    "    flow_rate=2\n",
    ")"
   ]
  },
  {
   "cell_type": "code",
   "execution_count": null,
   "metadata": {},
   "outputs": [],
   "source": [
    "# left_pipette.dispense(\n",
    "#     volume=left_pipette.volume,\n",
    "#     source=containers[\"drop_stage\"],\n",
    "#     destination=containers[\"6A1\"],\n",
    "# )\n",
    "left_pipette.drop_tip()"
   ]
  },
  {
   "cell_type": "code",
   "execution_count": null,
   "metadata": {},
   "outputs": [],
   "source": []
  }
 ],
 "metadata": {
  "kernelspec": {
   "display_name": "base",
   "language": "python",
   "name": "python3"
  },
  "language_info": {
   "codemirror_mode": {
    "name": "ipython",
    "version": 3
   },
   "file_extension": ".py",
   "mimetype": "text/x-python",
   "name": "python",
   "nbconvert_exporter": "python",
   "pygments_lexer": "ipython3",
   "version": "3.11.7"
  }
 },
 "nbformat": 4,
 "nbformat_minor": 2
}
