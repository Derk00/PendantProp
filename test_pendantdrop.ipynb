{
 "cells": [
  {
   "cell_type": "code",
   "execution_count": 15,
   "metadata": {},
   "outputs": [],
   "source": [
    "from hardware.opentrons.http_communications import Opentrons_http_api\n",
    "from hardware.opentrons.configuration import Configuration"
   ]
  },
  {
   "cell_type": "code",
   "execution_count": 16,
   "metadata": {},
   "outputs": [
    {
     "name": "stderr",
     "output_type": "stream",
     "text": [
      "2025-02-06 14:47:13,826 - INFO - Protocol already uploaded, using existing protocol.\n",
      "2025-02-06 14:47:20,791 - INFO - Run created succesfully (ID: aed91268-5655-412a-a360-e14402ff3032).\n",
      "2025-02-06 14:47:22,231 - INFO - All custom labware definitions added.\n",
      "2025-02-06 14:47:22,840 - INFO - Labware loaded successfully\n",
      "2025-02-06 14:47:26,964 - INFO - Pipettes loaded successfully\n",
      "2025-02-06 14:47:26,974 - INFO - Containers loaded successfully\n"
     ]
    }
   ],
   "source": [
    "# initialize\n",
    "api = Opentrons_http_api()\n",
    "api.initialise()\n",
    "config = Configuration(http_api=api)\n",
    "labware = config.load_labware()\n",
    "pipettes = config.load_pipettes()\n",
    "containers = config.load_containers()\n",
    "right_pipette = pipettes[\"right\"]\n",
    "left_pipette = pipettes[\"left\"]"
   ]
  },
  {
   "cell_type": "code",
   "execution_count": 17,
   "metadata": {},
   "outputs": [
    {
     "name": "stderr",
     "output_type": "stream",
     "text": [
      "2025-02-06 14:47:51,624 - INFO - Robot homed.\n"
     ]
    }
   ],
   "source": [
    "api.home()"
   ]
  },
  {
   "cell_type": "code",
   "execution_count": 11,
   "metadata": {},
   "outputs": [
    {
     "name": "stderr",
     "output_type": "stream",
     "text": [
      "2025-02-06 11:51:11,654 - INFO - left pipette (p20_single_gen2) picked up tip from well A1 on tips P20, 1.\n",
      "2025-02-06 11:51:14,369 - INFO - Container: Aspirated 20 uL from this container with content water\n",
      "2025-02-06 11:51:14,369 - INFO - Aspirated 20 uL from water (well A1 on tube rack 15 mL) with left pipette (p20_single_gen2)\n"
     ]
    }
   ],
   "source": [
    "left_pipette.pick_up_tip()\n",
    "left_pipette.aspirate(volume=20, source=containers[\"3A1\"])"
   ]
  },
  {
   "cell_type": "code",
   "execution_count": 12,
   "metadata": {},
   "outputs": [
    {
     "name": "stderr",
     "output_type": "stream",
     "text": [
      "2025-02-06 11:51:17,925 - INFO - Drop stage: measured pendant drop from 3A1. See container log for more details.\n",
      "2025-02-06 11:51:17,931 - INFO - Dispensed 12 uL into well 10A1 with left pipette (p20_single_gen2)\n"
     ]
    }
   ],
   "source": [
    "left_pipette.dispense(\n",
    "    volume=12,\n",
    "    source=containers[\"3A1\"],\n",
    "    destination=containers[\"drop_stage\"],\n",
    "    depth_offset=-23.4,\n",
    ")"
   ]
  },
  {
   "cell_type": "code",
   "execution_count": 14,
   "metadata": {},
   "outputs": [
    {
     "name": "stderr",
     "output_type": "stream",
     "text": [
      "2025-02-06 14:43:12,960 - ERROR - Pipette does not have a tip to drop!\n"
     ]
    }
   ],
   "source": [
    "left_pipette.drop_tip(return_tip=True)"
   ]
  }
 ],
 "metadata": {
  "kernelspec": {
   "display_name": "base",
   "language": "python",
   "name": "python3"
  },
  "language_info": {
   "codemirror_mode": {
    "name": "ipython",
    "version": 3
   },
   "file_extension": ".py",
   "mimetype": "text/x-python",
   "name": "python",
   "nbconvert_exporter": "python",
   "pygments_lexer": "ipython3",
   "version": "3.11.7"
  }
 },
 "nbformat": 4,
 "nbformat_minor": 2
}
