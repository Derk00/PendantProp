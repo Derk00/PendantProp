{
 "cells": [
  {
   "cell_type": "code",
   "execution_count": 1,
   "metadata": {},
   "outputs": [],
   "source": [
    "from hardware.opentrons.http_communications import Opentrons_http_api\n",
    "from hardware.opentrons.configuration import Configuration"
   ]
  },
  {
   "cell_type": "code",
   "execution_count": 2,
   "metadata": {},
   "outputs": [
    {
     "name": "stderr",
     "output_type": "stream",
     "text": [
      "2025-02-14 10:52:38,258 - INFO - Protocol already uploaded, using existing protocol.\n",
      "2025-02-14 10:52:38,457 - ERROR - Failed to create run! \n",
      " {\"errors\":[{\"id\":\"RunAlreadyActive\",\"title\":\"Run Already Active\",\"detail\":\"Current run is not idle or stopped.\",\"errorCode\":\"4001\"}]}\n",
      "2025-02-14 10:52:39,279 - INFO - All custom labware definitions added.\n",
      "2025-02-14 10:52:39,284 - ERROR - Error loading labware: Invalid URL 'None': No scheme supplied. Perhaps you meant https://None?\n",
      "2025-02-14 10:52:39,284 - ERROR - Error loading containers: 'NoneType' object is not subscriptable\n",
      "2025-02-14 10:52:39,285 - ERROR - Error loading pipettes: Invalid URL 'None': No scheme supplied. Perhaps you meant https://None?\n"
     ]
    },
    {
     "ename": "TypeError",
     "evalue": "'NoneType' object is not subscriptable",
     "output_type": "error",
     "traceback": [
      "\u001b[1;31m---------------------------------------------------------------------------\u001b[0m",
      "\u001b[1;31mTypeError\u001b[0m                                 Traceback (most recent call last)",
      "Cell \u001b[1;32mIn[2], line 8\u001b[0m\n\u001b[0;32m      6\u001b[0m containers \u001b[38;5;241m=\u001b[39m config\u001b[38;5;241m.\u001b[39mload_containers()\n\u001b[0;32m      7\u001b[0m pipettes \u001b[38;5;241m=\u001b[39m config\u001b[38;5;241m.\u001b[39mload_pipettes()\n\u001b[1;32m----> 8\u001b[0m right_pipette \u001b[38;5;241m=\u001b[39m pipettes[\u001b[38;5;124m\"\u001b[39m\u001b[38;5;124mright\u001b[39m\u001b[38;5;124m\"\u001b[39m]\n\u001b[0;32m      9\u001b[0m left_pipette \u001b[38;5;241m=\u001b[39m pipettes[\u001b[38;5;124m\"\u001b[39m\u001b[38;5;124mleft\u001b[39m\u001b[38;5;124m\"\u001b[39m]\n",
      "\u001b[1;31mTypeError\u001b[0m: 'NoneType' object is not subscriptable"
     ]
    }
   ],
   "source": [
    "# initialize\n",
    "api = Opentrons_http_api()\n",
    "api.initialise()\n",
    "config = Configuration(http_api=api)\n",
    "labware = config.load_labware()\n",
    "containers = config.load_containers()\n",
    "pipettes = config.load_pipettes()\n",
    "right_pipette = pipettes[\"right\"]\n",
    "left_pipette = pipettes[\"left\"]"
   ]
  },
  {
   "cell_type": "code",
   "execution_count": null,
   "metadata": {},
   "outputs": [],
   "source": [
    "api.home()"
   ]
  },
  {
   "cell_type": "code",
   "execution_count": null,
   "metadata": {},
   "outputs": [],
   "source": [
    "left_pipette.pick_up_tip()\n",
    "left_pipette.aspirate(volume=20, source=containers[\"6A1\"])\n",
    "left_pipette.clean_tip()"
   ]
  },
  {
   "cell_type": "code",
   "execution_count": null,
   "metadata": {},
   "outputs": [],
   "source": [
    "left_pipette.dispense(\n",
    "    volume=1,\n",
    "    source=containers[\"6A1\"],\n",
    "    destination=containers[\"drop_stage\"],\n",
    "    depth_offset=-23.4,\n",
    "    flow_rate=2\n",
    ")"
   ]
  },
  {
   "cell_type": "code",
   "execution_count": null,
   "metadata": {},
   "outputs": [],
   "source": [
    "# left_pipette.dispense(\n",
    "#     volume=left_pipette.volume,\n",
    "#     source=containers[\"drop_stage\"],\n",
    "#     destination=containers[\"6A1\"],\n",
    "# )\n",
    "left_pipette.drop_tip()"
   ]
  },
  {
   "cell_type": "code",
   "execution_count": null,
   "metadata": {},
   "outputs": [],
   "source": []
  }
 ],
 "metadata": {
  "kernelspec": {
   "display_name": "base",
   "language": "python",
   "name": "python3"
  },
  "language_info": {
   "codemirror_mode": {
    "name": "ipython",
    "version": 3
   },
   "file_extension": ".py",
   "mimetype": "text/x-python",
   "name": "python",
   "nbconvert_exporter": "python",
   "pygments_lexer": "ipython3",
   "version": "3.11.7"
  }
 },
 "nbformat": 4,
 "nbformat_minor": 2
}
