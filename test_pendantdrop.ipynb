{
 "cells": [
  {
   "cell_type": "code",
   "execution_count": 1,
   "metadata": {},
   "outputs": [],
   "source": [
    "from hardware.opentrons.http_communications import Opentrons_http_api\n",
    "from hardware.opentrons.configuration import Configuration"
   ]
  },
  {
   "cell_type": "code",
   "execution_count": 2,
   "metadata": {},
   "outputs": [
    {
     "name": "stderr",
     "output_type": "stream",
     "text": [
      "2025-02-05 18:44:51,651 - INFO - Protocol already uploaded, using existing protocol.\n",
      "2025-02-05 18:44:58,781 - INFO - Run created succesfully (ID: c1afaef5-b5f4-4bc9-9fa3-4d924270db48).\n",
      "2025-02-05 18:45:00,183 - INFO - All custom labware definitions added.\n",
      "2025-02-05 18:45:00,781 - INFO - Labware loaded successfully\n",
      "2025-02-05 18:45:04,897 - INFO - Pipettes loaded successfully\n",
      "2025-02-05 18:45:04,897 - INFO - Containers loaded successfully\n"
     ]
    }
   ],
   "source": [
    "# initialize\n",
    "api = Opentrons_http_api()\n",
    "api.initialise()\n",
    "config = Configuration(http_api=api)\n",
    "labware = config.load_labware()\n",
    "pipettes = config.load_pipettes()\n",
    "containers = config.load_containers()\n",
    "right_pipette = pipettes[\"right\"]\n",
    "left_pipette = pipettes[\"left\"]"
   ]
  },
  {
   "cell_type": "code",
   "execution_count": 3,
   "metadata": {},
   "outputs": [
    {
     "name": "stderr",
     "output_type": "stream",
     "text": [
      "2025-02-05 18:45:25,047 - INFO - Robot homed.\n"
     ]
    }
   ],
   "source": [
    "api.home()"
   ]
  },
  {
   "cell_type": "code",
   "execution_count": 6,
   "metadata": {},
   "outputs": [
    {
     "name": "stderr",
     "output_type": "stream",
     "text": [
      "2025-02-05 18:54:56,335 - INFO - left pipette (p20_single_gen2) dropped tip into trash.\n"
     ]
    }
   ],
   "source": [
    "# left_pipette.pick_up_tip()\n",
    "# left_pipette.aspirate(volume=20, source=containers[\"3A1\"])\n",
    "# left_pipette.dispense(volume = 5, source=containers[\"3A1\"], destination=containers[\"drop_stage\"])\n",
    "left_pipette.drop_tip()"
   ]
  },
  {
   "cell_type": "code",
   "execution_count": 5,
   "metadata": {},
   "outputs": [
    {
     "name": "stderr",
     "output_type": "stream",
     "text": [
      "2025-02-05 18:46:30,886 - INFO - Drop stage: measured pendant drop from 3A1. See container log for more details.\n",
      "2025-02-05 18:46:30,896 - INFO - Dispensed 12 uL into well 10A1 with left pipette (p20_single_gen2)\n"
     ]
    }
   ],
   "source": [
    "left_pipette.dispense(\n",
    "    volume=12,\n",
    "    source=containers[\"3A1\"],\n",
    "    destination=containers[\"drop_stage\"],\n",
    "    depth_offset=-23.4,\n",
    ")"
   ]
  }
 ],
 "metadata": {
  "kernelspec": {
   "display_name": "base",
   "language": "python",
   "name": "python3"
  },
  "language_info": {
   "codemirror_mode": {
    "name": "ipython",
    "version": 3
   },
   "file_extension": ".py",
   "mimetype": "text/x-python",
   "name": "python",
   "nbconvert_exporter": "python",
   "pygments_lexer": "ipython3",
   "version": "3.11.7"
  }
 },
 "nbformat": 4,
 "nbformat_minor": 2
}
