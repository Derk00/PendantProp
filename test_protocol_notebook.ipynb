{
 "cells": [
  {
   "cell_type": "code",
   "execution_count": 1,
   "metadata": {},
   "outputs": [
    {
     "name": "stderr",
     "output_type": "stream",
     "text": [
      "2025-02-19 11:20:39,257 - INFO - Protocol already uploaded, using existing protocol.\n",
      "2025-02-19 11:20:46,537 - INFO - Run created succesfully (ID: 85802c7e-d876-4f4f-a28b-c917556da550).\n",
      "2025-02-19 11:20:48,421 - INFO - All custom labware definitions added.\n",
      "2025-02-19 11:20:49,321 - INFO - Labware loaded successfully\n",
      "2025-02-19 11:20:49,354 - INFO - Containers loaded successfully\n",
      "2025-02-19 11:20:53,499 - INFO - Pipettes loaded successfully\n"
     ]
    }
   ],
   "source": [
    "from protocol import Protocol\n",
    "from hardware.opentrons.http_communications import OpentronsAPI\n",
    "from hardware.cameras import PendantDropCamera\n",
    "from hardware.sensor.sensor_api import SensorAPI\n",
    "from hardware.opentrons.configuration import Configuration\n",
    "\n",
    "opentrons_api = OpentronsAPI()\n",
    "opentrons_api.initialise()\n",
    "config = Configuration(http_api=opentrons_api)\n",
    "labware = config.load_labware()\n",
    "containers = config.load_containers()\n",
    "pipettes = config.load_pipettes()\n",
    "left_pipette = pipettes[\"left\"]\n",
    "right_pipette = pipettes[\"right\"]"
   ]
  },
  {
   "cell_type": "code",
   "execution_count": 12,
   "metadata": {},
   "outputs": [],
   "source": [
    "pendant_drop_camera = PendantDropCamera()"
   ]
  },
  {
   "cell_type": "code",
   "execution_count": 2,
   "metadata": {},
   "outputs": [
    {
     "name": "stderr",
     "output_type": "stream",
     "text": [
      "2025-02-19 11:22:05,653 - INFO - Robot homed.\n"
     ]
    }
   ],
   "source": [
    "opentrons_api.home()"
   ]
  },
  {
   "cell_type": "code",
   "execution_count": 3,
   "metadata": {},
   "outputs": [
    {
     "name": "stderr",
     "output_type": "stream",
     "text": [
      "2025-02-19 11:22:12,252 - INFO - left pipette picked up tip from well A1 on tips P20, 1.\n"
     ]
    }
   ],
   "source": [
    "left_pipette.pick_up_tip()"
   ]
  },
  {
   "cell_type": "code",
   "execution_count": 14,
   "metadata": {},
   "outputs": [
    {
     "name": "stderr",
     "output_type": "stream",
     "text": [
      "2025-02-19 11:27:49,443 - INFO - Start pendant drop measurement of 8A1, containing n.a. mM empty\n",
      "2025-02-19 11:27:59,870 - INFO - done with mixing in 8A1 with order before, with volume 14 uL, repeated 5 times\n",
      "2025-02-19 11:28:15,871 - WARNING - Aspiration volume is larger than container volume!\n",
      "2025-02-19 11:28:15,881 - INFO - Aspirated 15 uL from 8A1 with left pipette.\n",
      "2025-02-19 11:28:19,653 - INFO - air gap of 5 uL performed in left pipette.\n",
      "2025-02-19 11:28:24,801 - INFO - pipette tip cleaned on sponge.\n",
      "2025-02-19 11:28:29,986 - INFO - air gap of 5 uL removed in left pipette.\n",
      "2025-02-19 11:28:44,036 - INFO - camera: start measuring 8A1\n",
      "2025-02-19 11:28:49,090 - INFO - Delay of 5 seconds & 0 minutes.\n",
      "2025-02-19 11:28:49,299 - INFO - camera: stopped measurement\n",
      "2025-02-19 11:28:50,369 - INFO - Re-aspirated the pendant drop into the tip.\n",
      "2025-02-19 11:28:53,987 - INFO - Container: dispensed 15 uL into this container from source 10A1 containing pure mM empty.\n",
      "2025-02-19 11:28:53,987 - INFO - Dispensed 15 uL into well 8A1 with left pipette.\n",
      "2025-02-19 11:29:04,603 - INFO - left pipette dropped tip into trash.\n",
      "2025-02-19 11:29:04,604 - INFO - Done with pendant drop measurement.\n"
     ]
    },
    {
     "data": {
      "text/plain": [
       "[[0.0, 72.29602289323064],\n",
       " [0.225625, 72.29602289323064],\n",
       " [0.446999, 72.29602289323064],\n",
       " [0.662889, 72.03115664734426],\n",
       " [0.887511, 72.60683112090247],\n",
       " [1.134764, 72.8741653702832],\n",
       " [1.3615, 74.00072815984235],\n",
       " [1.579419, 70.93916548322758],\n",
       " [1.801756, 72.56222208893755],\n",
       " [2.01787, 70.93916548322758],\n",
       " [2.278408, 73.72816793428768],\n",
       " [2.510952, 73.14284717752584],\n",
       " [2.730381, 71.460088917659],\n",
       " [2.966946, 71.50538826996748],\n",
       " [3.206302, 73.72816793428768],\n",
       " [3.470162, 70.68064737589874],\n",
       " [3.707224, 71.19897650990173],\n",
       " [3.929473, 72.8741653702832],\n",
       " [4.149391, 71.2444689407517],\n",
       " [4.373634, 71.76761465046846],\n",
       " [4.635964, 72.8741653702832],\n",
       " [4.955971, 73.45697902584611]]"
      ]
     },
     "execution_count": 14,
     "metadata": {},
     "output_type": "execute_result"
    }
   ],
   "source": [
    "left_pipette.measure_pendant_drop(\n",
    "    source=containers[\"8A1\"],\n",
    "    drop_volume=13,\n",
    "    delay=5,\n",
    "    flow_rate=1,\n",
    "    pendant_drop_camera=pendant_drop_camera\n",
    ")"
   ]
  },
  {
   "cell_type": "code",
   "execution_count": 9,
   "metadata": {},
   "outputs": [
    {
     "name": "stderr",
     "output_type": "stream",
     "text": [
      "2025-02-19 11:26:10,422 - INFO - done with mixing in 8A1 with order before, with volume 10 uL, repeated 2 times\n",
      "2025-02-19 11:26:11,341 - INFO - Container: aspirated 10 uL from this container with content n.a. mM empty.\n",
      "2025-02-19 11:26:11,352 - INFO - Aspirated 10 uL from 8A1 with left pipette.\n"
     ]
    },
    {
     "name": "stdout",
     "output_type": "stream",
     "text": [
      "10\n"
     ]
    }
   ],
   "source": [
    "left_pipette.aspirate(volume=10, source=containers[\"8A1\"], mix=(\"before\", 10, 2))\n",
    "print(left_pipette.volume)\n",
    "# left_pipette.mixing(container=containers[\"8A1\"], mix = (\"after\", 10, 2))\n",
    "# print(left_pipette.volume)"
   ]
  },
  {
   "cell_type": "code",
   "execution_count": 11,
   "metadata": {},
   "outputs": [
    {
     "name": "stderr",
     "output_type": "stream",
     "text": [
      "2025-02-19 11:26:27,387 - INFO - Container: dispensed 10 uL into this container from source 8A1 containing n.a. mM empty.\n",
      "2025-02-19 11:26:27,402 - INFO - Dispensed 10 uL into well 8A1 with left pipette.\n"
     ]
    }
   ],
   "source": [
    "left_pipette.dispense(volume=10, destination=containers[\"8A1\"])"
   ]
  }
 ],
 "metadata": {
  "kernelspec": {
   "display_name": "base",
   "language": "python",
   "name": "python3"
  },
  "language_info": {
   "codemirror_mode": {
    "name": "ipython",
    "version": 3
   },
   "file_extension": ".py",
   "mimetype": "text/x-python",
   "name": "python",
   "nbconvert_exporter": "python",
   "pygments_lexer": "ipython3",
   "version": "3.11.7"
  }
 },
 "nbformat": 4,
 "nbformat_minor": 2
}
