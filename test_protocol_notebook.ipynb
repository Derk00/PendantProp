{
 "cells": [
  {
   "cell_type": "code",
   "execution_count": 1,
   "metadata": {},
   "outputs": [
    {
     "name": "stderr",
     "output_type": "stream",
     "text": [
      "2025-02-20 17:59:45,019 - INFO - Protocol already uploaded, using existing protocol.\n",
      "2025-02-20 17:59:52,285 - INFO - Run created succesfully (ID: 55db5b1f-2d3c-47ef-8e24-bd80c027f087).\n",
      "2025-02-20 17:59:54,042 - INFO - All custom labware definitions added.\n",
      "2025-02-20 17:59:54,885 - INFO - Labware loaded successfully.\n",
      "2025-02-20 17:59:54,891 - INFO - Containers loaded successfully.\n",
      "2025-02-20 17:59:59,082 - INFO - Pipettes loaded successfully.\n"
     ]
    }
   ],
   "source": [
    "from hardware.opentrons.http_communications import OpentronsAPI\n",
    "from hardware.cameras import PendantDropCamera\n",
    "from hardware.sensor.sensor_api import SensorAPI\n",
    "from hardware.opentrons.configuration import Configuration\n",
    "\n",
    "opentrons_api = OpentronsAPI()\n",
    "opentrons_api.initialise()\n",
    "config = Configuration(http_api=opentrons_api)\n",
    "labware = config.load_labware()\n",
    "containers = config.load_containers()\n",
    "pipettes = config.load_pipettes()\n",
    "left_pipette = pipettes[\"left\"]\n",
    "right_pipette = pipettes[\"right\"]\n",
    "pendant_drop_camera = PendantDropCamera()"
   ]
  },
  {
   "cell_type": "code",
   "execution_count": 2,
   "metadata": {},
   "outputs": [
    {
     "name": "stderr",
     "output_type": "stream",
     "text": [
      "2025-02-20 18:00:19,706 - INFO - Robot homed.\n"
     ]
    }
   ],
   "source": [
    "opentrons_api.home()"
   ]
  },
  {
   "cell_type": "code",
   "execution_count": 6,
   "metadata": {},
   "outputs": [
    {
     "name": "stdout",
     "output_type": "stream",
     "text": [
      "\n",
      "        Container object\n",
      "\n",
      "        Container type = Plate Well\n",
      "        Well ID = 8A1\n",
      "        Solution name: SDS_1\n",
      "        Concentration: 4.125\n",
      "        Inner diameter: 6.96 mm\n",
      "        Well: A1\n",
      "        Location: 8\n",
      "        Initial height: 0.50 mm\n",
      "        Current height: 0.50 mm\n",
      "        Current volume: 100 uL\n",
      "        \n"
     ]
    }
   ],
   "source": [
    "# containers[\"8A1\"].volume_mL = 0.1\n",
    "# containers[\"8A1\"].solution_name = \"SDS_1\"\n",
    "# containers[\"8A1\"].concentration = 27.5\n",
    "print(containers[\"8A1\"])"
   ]
  },
  {
   "cell_type": "code",
   "execution_count": 4,
   "metadata": {},
   "outputs": [],
   "source": [
    "# right_pipette.serial_dilution(row_id=\"8A\", solution_name=\"SDS_1\", n_dilutions=2, well_volume=100)"
   ]
  },
  {
   "cell_type": "code",
   "execution_count": 5,
   "metadata": {},
   "outputs": [
    {
     "name": "stderr",
     "output_type": "stream",
     "text": [
      "2025-02-20 18:00:19,725 - INFO - Start pendant drop measurement of 8A1, containing 27.5 mM SDS_1\n",
      "2025-02-20 18:00:26,285 - INFO - Left pipette picked up tip from well A1 on tips P20, 1.\n",
      "2025-02-20 18:00:32,519 - INFO - Done with mixing in 8A1 with order before, with volume 15 uL, repeated 2 times\n",
      "2025-02-20 18:00:40,602 - INFO - Container: aspirated 15 uL from this container with content 27.5 mM SDS_1.\n",
      "2025-02-20 18:00:40,602 - INFO - Aspirated 15 uL from 8A1 with left pipette.\n",
      "2025-02-20 18:00:44,357 - INFO - Air gap of 5 uL performed in left pipette.\n",
      "2025-02-20 18:00:49,469 - INFO - Pipette tip cleaned on sponge.\n",
      "2025-02-20 18:00:54,673 - INFO - Air gap of 5 uL removed in left pipette.\n",
      "2025-02-20 18:00:58,623 - INFO - Camera: start measuring 8A1.\n",
      "2025-02-20 18:01:08,668 - INFO - Delay of 10 seconds & 0 minutes.\n",
      "2025-02-20 18:01:08,795 - INFO - Camera: stopped measurement\n",
      "2025-02-20 18:01:09,578 - INFO - Re-aspirated the pendant drop into the tip.\n",
      "2025-02-20 18:01:13,219 - INFO - Container: dispensed 15 uL into this container from source 8A1 containing 4.125 mM SDS_1.\n",
      "2025-02-20 18:01:13,219 - INFO - Dispensed 15 uL into well 8A1 with left pipette.\n",
      "2025-02-20 18:01:13,219 - INFO - Returned volume in tip to source.\n",
      "2025-02-20 18:01:23,888 - INFO - Left pipette dropped tip into trash.\n",
      "2025-02-20 18:01:23,889 - INFO - Done with pendant drop measurement.\n"
     ]
    },
    {
     "data": {
      "text/plain": [
       "[[0.0, 36.885372442700636],\n",
       " [0.21268, 38.326730593600345],\n",
       " [0.414998, 39.87236061464641],\n",
       " [0.60981, 37.38899814051304],\n",
       " [0.810314, 34.29960922739634],\n",
       " [1.035161, 34.49249730573715],\n",
       " [1.243746, 37.940892573882316],\n",
       " [1.44789, 41.8727518321349],\n",
       " [1.648686, 37.012964323583034],\n",
       " [1.848378, 34.14798964268816],\n",
       " [2.08034, 33.99728988804626],\n",
       " [2.286025, 38.11397796451363],\n",
       " [2.502731, 37.220075649538536],\n",
       " [2.744034, 36.14886002614619],\n",
       " [2.947892, 42.8965376991299],\n",
       " [3.178548, 42.03150128304349],\n",
       " [3.376444, 42.46180155155142],\n",
       " [3.575955, 35.626130790285536],\n",
       " [3.776861, 34.95553061694341],\n",
       " [5.052419, 44.12351353682234],\n",
       " [5.255241, 43.53939024073748],\n",
       " [5.561126, 38.67813227514702],\n",
       " [5.815713, 37.76888920146357],\n",
       " [6.065631, 38.19146591310006],\n",
       " [6.319322, 34.99570057059302],\n",
       " [6.601753, 41.03028661696894],\n",
       " [6.850781, 40.018567897286594],\n",
       " [7.099599, 38.11397796451363],\n",
       " [7.35062, 34.95553061694341],\n",
       " [7.596987, 35.9472170248155],\n",
       " [7.862729, 37.0522032330234],\n",
       " [8.159828, 36.18854137674481],\n",
       " [8.411729, 38.36539213017908],\n",
       " [8.651112, 39.47019093286087],\n",
       " [8.928528, 40.24114396306869],\n",
       " [9.179325, 33.84750271239178],\n",
       " [9.427027, 34.645899360983826],\n",
       " [9.678558, 41.8727518321349],\n",
       " [9.918671, 41.10454988221565]]"
      ]
     },
     "execution_count": 5,
     "metadata": {},
     "output_type": "execute_result"
    }
   ],
   "source": [
    "left_pipette.measure_pendant_drop(\n",
    "    source=containers[\"8A1\"],\n",
    "    drop_volume=6,\n",
    "    delay=10,\n",
    "    flow_rate=2,\n",
    "    pendant_drop_camera=pendant_drop_camera\n",
    ")"
   ]
  }
 ],
 "metadata": {
  "kernelspec": {
   "display_name": "base",
   "language": "python",
   "name": "python3"
  },
  "language_info": {
   "codemirror_mode": {
    "name": "ipython",
    "version": 3
   },
   "file_extension": ".py",
   "mimetype": "text/x-python",
   "name": "python",
   "nbconvert_exporter": "python",
   "pygments_lexer": "ipython3",
   "version": "3.11.7"
  }
 },
 "nbformat": 4,
 "nbformat_minor": 2
}
