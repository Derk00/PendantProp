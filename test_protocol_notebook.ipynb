{
 "cells": [
  {
   "cell_type": "code",
   "execution_count": 1,
   "metadata": {},
   "outputs": [
    {
     "name": "stderr",
     "output_type": "stream",
     "text": [
      "2025-02-21 16:01:27,886 - INFO - Protocol already uploaded, using existing protocol.\n",
      "2025-02-21 16:01:34,997 - INFO - Run created succesfully (ID: 3d005581-3b4e-4bc6-b1fe-5407ae61f1b1).\n",
      "2025-02-21 16:01:36,669 - INFO - All custom labware definitions added.\n",
      "2025-02-21 16:01:37,623 - INFO - Labware loaded successfully.\n",
      "2025-02-21 16:01:37,629 - INFO - Containers loaded successfully.\n",
      "2025-02-21 16:01:41,775 - INFO - Pipettes loaded successfully.\n"
     ]
    }
   ],
   "source": [
    "from hardware.opentrons.http_communications import OpentronsAPI\n",
    "from hardware.cameras import PendantDropCamera\n",
    "from hardware.sensor.sensor_api import SensorAPI\n",
    "from hardware.opentrons.configuration import Configuration\n",
    "from utils.search_containers import get_well_id_concentration\n",
    "\n",
    "opentrons_api = OpentronsAPI()\n",
    "opentrons_api.initialise()\n",
    "config = Configuration(http_api=opentrons_api)\n",
    "labware = config.load_labware()\n",
    "containers = config.load_containers()\n",
    "pipettes = config.load_pipettes()\n",
    "left_pipette = pipettes[\"left\"]\n",
    "right_pipette = pipettes[\"right\"]\n",
    "# pendant_drop_camera = PendantDropCamera()"
   ]
  },
  {
   "cell_type": "code",
   "execution_count": null,
   "metadata": {},
   "outputs": [
    {
     "name": "stdout",
     "output_type": "stream",
     "text": [
      "8B1\n"
     ]
    }
   ],
   "source": []
  }
 ],
 "metadata": {
  "kernelspec": {
   "display_name": "base",
   "language": "python",
   "name": "python3"
  },
  "language_info": {
   "codemirror_mode": {
    "name": "ipython",
    "version": 3
   },
   "file_extension": ".py",
   "mimetype": "text/x-python",
   "name": "python",
   "nbconvert_exporter": "python",
   "pygments_lexer": "ipython3",
   "version": "3.11.7"
  }
 },
 "nbformat": 4,
 "nbformat_minor": 2
}
