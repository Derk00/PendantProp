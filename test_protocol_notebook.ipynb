{
 "cells": [
  {
   "cell_type": "code",
   "execution_count": 1,
   "metadata": {},
   "outputs": [
    {
     "name": "stderr",
     "output_type": "stream",
     "text": [
      "2025-02-21 16:32:35,447 - INFO - Protocol already uploaded, using existing protocol.\n",
      "2025-02-21 16:32:42,898 - INFO - Run created succesfully (ID: 24e5a33e-b3d2-45ff-b6f1-98d385c66798).\n",
      "2025-02-21 16:32:44,681 - INFO - All custom labware definitions added.\n",
      "2025-02-21 16:32:45,430 - INFO - Labware loaded successfully.\n",
      "2025-02-21 16:32:45,465 - INFO - Containers loaded successfully.\n",
      "2025-02-21 16:32:49,518 - INFO - Pipettes loaded successfully.\n"
     ]
    }
   ],
   "source": [
    "from hardware.opentrons.http_communications import OpentronsAPI\n",
    "from hardware.cameras import PendantDropCamera\n",
    "from hardware.sensor.sensor_api import SensorAPI\n",
    "from hardware.opentrons.configuration import Configuration\n",
    "\n",
    "opentrons_api = OpentronsAPI()\n",
    "opentrons_api.initialise()\n",
    "config = Configuration(http_api=opentrons_api)\n",
    "labware = config.load_labware()\n",
    "containers = config.load_containers()\n",
    "pipettes = config.load_pipettes()\n",
    "left_pipette = pipettes[\"left\"]\n",
    "right_pipette = pipettes[\"right\"]\n",
    "pendant_drop_camera = PendantDropCamera()"
   ]
  },
  {
   "cell_type": "code",
   "execution_count": 7,
   "metadata": {},
   "outputs": [
    {
     "name": "stderr",
     "output_type": "stream",
     "text": [
      "2025-02-21 16:29:39,832 - INFO - Robot homed.\n"
     ]
    }
   ],
   "source": [
    "opentrons_api.home()"
   ]
  },
  {
   "cell_type": "code",
   "execution_count": 2,
   "metadata": {},
   "outputs": [
    {
     "name": "stderr",
     "output_type": "stream",
     "text": [
      "2025-02-21 16:33:44,637 - INFO - Start pendant drop measurement of 8A1, containing pure mM water\n",
      "2025-02-21 16:33:50,864 - INFO - Picked up tip.\n",
      "2025-02-21 16:33:59,164 - INFO - Done with mixing in 8A1 with order before, with volume 15 uL, repeated 3 times\n",
      "2025-02-21 16:34:15,168 - INFO - Container: aspirated 15 uL from this container with content pure mM water.\n",
      "2025-02-21 16:34:15,169 - INFO - Aspirated 15 uL from 8A1 with left pipette.\n",
      "2025-02-21 16:34:18,898 - INFO - Air gap of 5 uL performed in left pipette.\n",
      "2025-02-21 16:34:23,731 - INFO - Pipette tip cleaned on sponge.\n",
      "2025-02-21 16:34:28,980 - INFO - Air gap of 5 uL removed in left pipette.\n",
      "2025-02-21 16:34:39,947 - INFO - Camera: start measuring 8A1.\n",
      "2025-02-21 16:34:50,000 - INFO - Delay of 10 seconds & 0 minutes.\n",
      "2025-02-21 16:34:50,397 - INFO - Camera: stopped measurement\n",
      "2025-02-21 16:34:51,365 - INFO - Re-aspirated the pendant drop into the tip.\n",
      "2025-02-21 16:34:54,715 - INFO - Container: dispensed 15 uL into this container from source 8A1 containing pure mM water.\n",
      "2025-02-21 16:34:54,715 - INFO - Dispensed 15 uL into well 8A1 with left pipette.\n",
      "2025-02-21 16:34:54,715 - INFO - Returned volume in tip to source.\n",
      "2025-02-21 16:35:05,011 - INFO - Left pipette dropped tip into trash.\n",
      "2025-02-21 16:35:05,011 - INFO - Done with pendant drop measurement.\n"
     ]
    },
    {
     "data": {
      "text/plain": [
       "[[0.0, 70.21612990457581],\n",
       " [0.223703, 72.06353546309396],\n",
       " [0.426232, 71.46320040710738],\n",
       " [0.630411, 71.7625048111944],\n",
       " [0.838775, 70.86971921360278],\n",
       " [1.083341, 70.86971921360278],\n",
       " [1.293457, 73.00771582107498],\n",
       " [1.49699, 70.24948447704794],\n",
       " [1.698601, 72.7017872796036],\n",
       " [1.898473, 69.09464511162109],\n",
       " [2.132904, 72.09519836619808],\n",
       " [2.340009, 69.95830346287335],\n",
       " [2.544343, 72.7017872796036],\n",
       " [2.753488, 72.09519836619808],\n",
       " [2.960924, 72.7017872796036],\n",
       " [3.2001, 73.65494558621008],\n",
       " [3.399048, 70.57551714460651],\n",
       " [3.607484, 72.39761916258081],\n",
       " [3.812721, 72.09519836619808],\n",
       " [4.027187, 72.09519836619808],\n",
       " [4.27508, 70.86971921360278],\n",
       " [4.59344, 72.39761916258081],\n",
       " [4.870784, 73.34582345136185],\n",
       " [5.132146, 73.34582345136185],\n",
       " [5.416939, 70.86971921360278],\n",
       " [5.68812, 72.39761916258081],\n",
       " [5.945026, 73.96586307030674],\n",
       " [6.206344, 74.62222008153843],\n",
       " [6.499518, 73.03848326152445],\n",
       " [6.755791, 74.30805173821147],\n",
       " [7.098879, 68.81001360400103],\n",
       " [7.349635, 72.39761916258081],\n",
       " [7.633159, 69.09464511162109],\n",
       " [7.894118, 71.19829061628157],\n",
       " [8.163565, 70.86971921360278],\n",
       " [8.436618, 72.09519836619808],\n",
       " [8.71677, 68.81001360400103],\n",
       " [8.981405, 73.03848326152445],\n",
       " [9.324141, 73.03848326152445],\n",
       " [9.661769, 70.57551714460651],\n",
       " [10.052944, 71.79451190403896]]"
      ]
     },
     "execution_count": 2,
     "metadata": {},
     "output_type": "execute_result"
    }
   ],
   "source": [
    "left_pipette.measure_pendant_drop(\n",
    "    source=containers[\"8A1\"],\n",
    "    drop_volume=10,\n",
    "    delay=10,\n",
    "    flow_rate=1,\n",
    "    pendant_drop_camera=pendant_drop_camera\n",
    ")"
   ]
  }
 ],
 "metadata": {
  "kernelspec": {
   "display_name": "base",
   "language": "python",
   "name": "python3"
  },
  "language_info": {
   "codemirror_mode": {
    "name": "ipython",
    "version": 3
   },
   "file_extension": ".py",
   "mimetype": "text/x-python",
   "name": "python",
   "nbconvert_exporter": "python",
   "pygments_lexer": "ipython3",
   "version": "3.11.7"
  }
 },
 "nbformat": 4,
 "nbformat_minor": 2
}
