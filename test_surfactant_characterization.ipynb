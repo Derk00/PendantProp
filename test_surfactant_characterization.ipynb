{
 "cells": [
  {
   "cell_type": "code",
   "execution_count": 1,
   "metadata": {},
   "outputs": [],
   "source": [
    "from hardware.opentrons.http_communications import Opentrons_http_api\n",
    "from hardware.opentrons.configuration import Configuration\n",
    "from hardware.cameras import PendantDropCamera"
   ]
  },
  {
   "cell_type": "code",
   "execution_count": 3,
   "metadata": {},
   "outputs": [
    {
     "name": "stderr",
     "output_type": "stream",
     "text": [
      "2025-02-11 13:19:09,527 - INFO - Protocol already uploaded, using existing protocol.\n",
      "2025-02-11 13:19:11,847 - INFO - Run created succesfully (ID: f5693863-46d1-4f0a-b1e5-67ce2b6b5027).\n",
      "2025-02-11 13:19:13,564 - INFO - All custom labware definitions added.\n",
      "2025-02-11 13:19:14,384 - INFO - Labware loaded successfully\n",
      "2025-02-11 13:19:14,387 - INFO - Containers loaded successfully\n",
      "2025-02-11 13:19:18,440 - INFO - Pipettes loaded successfully\n"
     ]
    }
   ],
   "source": [
    "# initialize\n",
    "api = Opentrons_http_api()\n",
    "api.initialise()\n",
    "config = Configuration(http_api=api)\n",
    "labware = config.load_labware()\n",
    "containers = config.load_containers()\n",
    "pipettes = config.load_pipettes()\n",
    "\n",
    "# right_pipette = pipettes[\"right\"]\n",
    "# left_pipette = pipettes[\"left\"]\n",
    "# pd_cam = PendantDropCamera()"
   ]
  },
  {
   "cell_type": "code",
   "execution_count": 12,
   "metadata": {},
   "outputs": [
    {
     "name": "stdout",
     "output_type": "stream",
     "text": [
      "{'WELL': 'A1', 'LOCATION': 3, 'WELL_ID': '3A1', 'INITIAL_VOLUME_ML': 10.0, 'MAX_VOLUME': 15000, 'LABWARE_ID': '6174a6a0-4e13-469f-a4bf-1e7a922b3557', 'LABWARE_NAME': 'tube rack 15 mL', 'DEPTH': 117.5, 'INNER_DIAMETER_MM': 15.25, 'height_mm': 64.27344650412886, 'INITIAL_HEIGHT_MM': 64.27344650412886, 'WELL_DIAMETER': 14.9, 'CONTAINER_TYPE': 'Falcon tube 15 mL', 'volume_mL': 10.0, 'solution_name': 'water', 'concentration': 'pure', 'container_logger': <utils.logger.Logger object at 0x000001D548E79990>, 'protocol_logger': <utils.logger.Logger object at 0x000001D548EB2150>}\n",
      "{'LABWARE_ID': '5cfc202f-1a44-4f75-9c64-25b3afbc3d8e', 'LABWARE_NAME': 'drop_stage', 'LOCATION': 10, 'CONTAINER_TYPE': 'Cuvette', 'WELL': 'A1', 'WELL_ID': '10A1', 'DEPTH': 45.5, 'height_mm': 45.5, 'MAX_VOLUME': 5000, 'solution_name': 'empty', 'container_logger': <utils.logger.Logger object at 0x000001D548EB3350>}\n",
      "{'LABWARE_ID': '18985981-5ae8-495e-b6a4-cf03f3a5a8ee', 'LABWARE_NAME': 'light_holder', 'LOCATION': 4, 'CONTAINER_TYPE': 'Light holder', 'WELL': 'A1', 'WELL_ID': '4A1', 'DEPTH': 100, 'height_mm': 100, 'MAX_VOLUME': 1000}\n",
      "{'WELL': 'A1', 'LOCATION': 6, 'WELL_ID': '6A1', 'INITIAL_VOLUME_ML': 0.1, 'MAX_VOLUME': 392, 'LABWARE_ID': 'f986dba3-a3b6-4404-8356-25824b9d95ef', 'LABWARE_NAME': 'plate', 'DEPTH': 10.9, 'INNER_DIAMETER_MM': 6.96, 'height_mm': 2, 'INITIAL_HEIGHT_MM': 2, 'WELL_DIAMETER': 6.96, 'CONTAINER_TYPE': 'Plate Well', 'volume_mL': 0.1, 'solution_name': 'water', 'concentration': 'pure', 'container_logger': <utils.logger.Logger object at 0x000001D5156A0910>, 'protocol_logger': <utils.logger.Logger object at 0x000001D548EABDD0>}\n",
      "{'WELL': 'B1', 'LOCATION': 6, 'WELL_ID': '6B1', 'INITIAL_VOLUME_ML': 0.1, 'MAX_VOLUME': 392, 'LABWARE_ID': 'f986dba3-a3b6-4404-8356-25824b9d95ef', 'LABWARE_NAME': 'plate', 'DEPTH': 10.9, 'INNER_DIAMETER_MM': 6.96, 'height_mm': 2, 'INITIAL_HEIGHT_MM': 2, 'WELL_DIAMETER': 6.96, 'CONTAINER_TYPE': 'Plate Well', 'volume_mL': 0.1, 'solution_name': 'water', 'concentration': 'pure', 'container_logger': <utils.logger.Logger object at 0x000001D548EB00D0>, 'protocol_logger': <utils.logger.Logger object at 0x000001D548EAA290>}\n",
      "{'LABWARE_ID': '0dd1bf16-f9b3-4311-bb3e-41842958f9b1', 'LABWARE_NAME': 'sponge', 'LOCATION': 9, 'CONTAINER_TYPE': 'Sponge', 'ORDERING': ['A1', 'B1', 'C1', 'D1', 'E1', 'F1', 'G1', 'H1', 'I1', 'J1', 'K1', 'L1', 'A2', 'B2', 'C2', 'D2', 'E2', 'F2', 'G2', 'H2', 'I2', 'J2', 'K2', 'L2', 'A3', 'B3', 'C3', 'D3', 'E3', 'F3', 'G3', 'H3', 'I3', 'J3', 'K3', 'L3', 'A4', 'B4', 'C4', 'D4', 'E4', 'F4', 'G4', 'H4', 'I4', 'J4', 'K4', 'L4', 'A5', 'B5', 'C5', 'D5', 'E5', 'F5', 'G5', 'H5', 'I5', 'J5', 'K5', 'L5', 'A6', 'B6', 'C6', 'D6', 'E6', 'F6', 'G6', 'H6', 'I6', 'J6', 'K6', 'L6', 'A7', 'B7', 'C7', 'D7', 'E7', 'F7', 'G7', 'H7', 'I7', 'J7', 'K7', 'L7', 'A8', 'B8', 'C8', 'D8', 'E8', 'F8', 'G8', 'H8', 'I8', 'J8', 'K8', 'L8', 'A9', 'B9', 'C9', 'D9', 'E9', 'F9', 'G9', 'H9', 'I9', 'J9', 'K9', 'L9', 'A10', 'B10', 'C10', 'D10', 'E10', 'F10', 'G10', 'H10', 'I10', 'J10', 'K10', 'L10', 'A11', 'B11', 'C11', 'D11', 'E11', 'F11', 'G11', 'H11', 'I11', 'J11', 'K11', 'L11', 'A12', 'B12', 'C12', 'D12', 'E12', 'F12', 'G12', 'H12', 'I12', 'J12', 'K12', 'L12', 'A13', 'B13', 'C13', 'D13', 'E13', 'F13', 'G13', 'H13', 'I13', 'J13', 'K13', 'L13', 'A14', 'B14', 'C14', 'D14', 'E14', 'F14', 'G14', 'H14', 'I14', 'J14', 'K14', 'L14', 'A15', 'B15', 'C15', 'D15', 'E15', 'F15', 'G15', 'H15', 'I15', 'J15', 'K15', 'L15', 'A16', 'B16', 'C16', 'D16', 'E16', 'F16', 'G16', 'H16', 'I16', 'J16', 'K16', 'L16', 'A17', 'B17', 'C17', 'D17', 'E17', 'F17', 'G17', 'H17', 'I17', 'J17', 'K17', 'L17', 'A18', 'B18', 'C18', 'D18', 'E18', 'F18', 'G18', 'H18', 'I18', 'J18', 'K18', 'L18'], 'DEPTH': 10.9, 'height_mm': 10.9, 'MAX_VOLUME': 392, 'index': 0, 'well': 'A1'}\n"
     ]
    }
   ],
   "source": [
    "for key in containers:\n",
    "    print(containers[key].__dict__)"
   ]
  },
  {
   "cell_type": "code",
   "execution_count": 4,
   "metadata": {},
   "outputs": [
    {
     "name": "stderr",
     "output_type": "stream",
     "text": [
      "2025-02-11 13:19:48,136 - INFO - Robot homed.\n"
     ]
    }
   ],
   "source": [
    "api.home()"
   ]
  },
  {
   "cell_type": "code",
   "execution_count": null,
   "metadata": {},
   "outputs": [],
   "source": [
    "left_pipette.measure_pendant_drop(\n",
    "    source=containers[\"6A1\"], drop_volume=13, delay=10, flow_rate=2, pendant_drop_camera=pd_cam\n",
    ")"
   ]
  },
  {
   "cell_type": "code",
   "execution_count": null,
   "metadata": {},
   "outputs": [],
   "source": [
    "# left_pipette.dispense(\n",
    "#     volume=12,\n",
    "#     source=containers[\"6A1\"],\n",
    "#     destination=containers[\"drop_stage\"],\n",
    "#     depth_offset=-23.4\n",
    "# )"
   ]
  }
 ],
 "metadata": {
  "kernelspec": {
   "display_name": "base",
   "language": "python",
   "name": "python3"
  },
  "language_info": {
   "codemirror_mode": {
    "name": "ipython",
    "version": 3
   },
   "file_extension": ".py",
   "mimetype": "text/x-python",
   "name": "python",
   "nbconvert_exporter": "python",
   "pygments_lexer": "ipython3",
   "version": "3.11.7"
  }
 },
 "nbformat": 4,
 "nbformat_minor": 2
}
