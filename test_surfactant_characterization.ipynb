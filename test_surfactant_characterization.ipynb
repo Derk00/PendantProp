{
 "cells": [
  {
   "cell_type": "code",
   "execution_count": 1,
   "metadata": {},
   "outputs": [],
   "source": [
    "from hardware.opentrons.http_communications import Opentrons_http_api\n",
    "from hardware.opentrons.configuration import Configuration\n",
    "from hardware.cameras import PendantDropCamera\n",
    "from utils.search_containers import get_well_id\n",
    "from utils.load_save_functions import load_settings"
   ]
  },
  {
   "cell_type": "code",
   "execution_count": 2,
   "metadata": {},
   "outputs": [
    {
     "name": "stderr",
     "output_type": "stream",
     "text": [
      "2025-02-12 16:02:58,954 - INFO - Protocol already uploaded, using existing protocol.\n",
      "2025-02-12 16:03:05,399 - INFO - Run created succesfully (ID: 71d6fbd3-4ea6-4dda-aae4-4fd6ad4a7dc8).\n",
      "2025-02-12 16:03:07,153 - INFO - All custom labware definitions added.\n",
      "2025-02-12 16:03:07,953 - INFO - Labware loaded successfully\n",
      "2025-02-12 16:03:07,968 - INFO - Containers loaded successfully\n",
      "2025-02-12 16:03:12,052 - INFO - Pipettes loaded successfully\n"
     ]
    },
    {
     "name": "stdout",
     "output_type": "stream",
     "text": [
      "Camera: initialized\n"
     ]
    }
   ],
   "source": [
    "# initialize\n",
    "api = Opentrons_http_api()\n",
    "api.initialise()\n",
    "config = Configuration(http_api=api)\n",
    "labware = config.load_labware()\n",
    "containers = config.load_containers()\n",
    "pipettes = config.load_pipettes()\n",
    "\n",
    "right_pipette = pipettes[\"right\"]\n",
    "left_pipette = pipettes[\"left\"]\n",
    "pd_cam = PendantDropCamera()"
   ]
  },
  {
   "cell_type": "code",
   "execution_count": null,
   "metadata": {},
   "outputs": [],
   "source": [
    "right_pipette.serial_dilution(row_id=\"6A\", surfactant_name=\"SDS\")"
   ]
  },
  {
   "cell_type": "code",
   "execution_count": null,
   "metadata": {},
   "outputs": [],
   "source": [
    "api.home()"
   ]
  },
  {
   "cell_type": "code",
   "execution_count": null,
   "metadata": {},
   "outputs": [],
   "source": [
    "well_id_water = get_well_id(containers, solution=\"water\")\n",
    "well_id_surf = get_well_id(containers, solution=\"SDS\")\n",
    "well_id_trash = get_well_id(containers, solution=\"trash\")\n",
    "row_id = '6A'"
   ]
  },
  {
   "cell_type": "code",
   "execution_count": null,
   "metadata": {},
   "outputs": [],
   "source": [
    "# for i in range(explore_points):\n",
    "    # right_pipette.transfer(volume=well_volume, source=containers[well_id_water], destination=containers[f'6A{i+1}'], touch_tip=True)\n",
    "# right_pipette.drop_tip()\n",
    "right_pipette.pick_up_tip()\n",
    "# right_pipette.aspirate(volume=well_volume, source=containers[well_id_surf], touch_tip=True)\n",
    "# right_pipette.dispense(volume=well_volume, source = containers[well_id_surf], destination=containers[\"6A1\"], touch_tip=True, mix=(\"after\", well_volume/2, 5))\n",
    "# for i in range(1, explore_points):\n",
    "    # right_pipette.aspirate(volume=well_volume, source=containers[f\"{row_id}{i}\"], touch_tip=True)\n",
    "    # right_pipette.dispense(volume=well_volume, source=containers[f\"{row_id}{i}\"], destination=containers[f\"{row_id}{i+1}\"], touch_tip=True, mix=(\"after\", well_volume/2, 2))\n",
    "right_pipette.aspirate(volume=well_volume, source=containers[f\"{row_id}{explore_points}\"], touch_tip=True)\n",
    "right_pipette.dispense(volume=well_volume, source=containers[f\"{row_id}{explore_points}\"], destination=containers[well_id_trash], touch_tip=True)\n",
    "# right_pipette.transfer(volume=well_volume, source=containers[well_id_surf], destination=containers[\"6A1\"], touch_tip=True, mix=(\"after\", well_volume/2, 5))"
   ]
  },
  {
   "cell_type": "code",
   "execution_count": null,
   "metadata": {},
   "outputs": [],
   "source": [
    "right_pipette.drop_tip(return_tip=True)"
   ]
  }
 ],
 "metadata": {
  "kernelspec": {
   "display_name": "base",
   "language": "python",
   "name": "python3"
  },
  "language_info": {
   "codemirror_mode": {
    "name": "ipython",
    "version": 3
   },
   "file_extension": ".py",
   "mimetype": "text/x-python",
   "name": "python",
   "nbconvert_exporter": "python",
   "pygments_lexer": "ipython3",
   "version": "3.11.7"
  }
 },
 "nbformat": 4,
 "nbformat_minor": 2
}
